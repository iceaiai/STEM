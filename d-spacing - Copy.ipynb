{
 "cells": [
  {
   "cell_type": "code",
   "execution_count": 1,
   "id": "df19cd90",
   "metadata": {},
   "outputs": [],
   "source": [
    "%matplotlib qt\n",
    "import matplotlib.pyplot as plt\n",
    "import atomap.api as am\n",
    "import hyperspy.api as hs"
   ]
  },
  {
   "cell_type": "code",
   "execution_count": 2,
   "id": "a39a719b-a677-47f7-8947-312b6e9d0d59",
   "metadata": {},
   "outputs": [],
   "source": [
    "#!pip install ipython --upgrade\n",
    "#!pip install matplotlib --upgrade"
   ]
  },
  {
   "cell_type": "code",
   "execution_count": 2,
   "id": "60fe4aed",
   "metadata": {},
   "outputs": [],
   "source": [
    "s = hs.load('9_registered_1pm.hspy') "
   ]
  },
  {
   "cell_type": "code",
   "execution_count": 3,
   "id": "1e04ef8c",
   "metadata": {},
   "outputs": [],
   "source": [
    "s.plot()\n",
    "#s.axes_manager #pixel size = 0.02622468769550323nm"
   ]
  },
  {
   "cell_type": "code",
   "execution_count": 32,
   "id": "f59c7763",
   "metadata": {},
   "outputs": [],
   "source": [
    "s_temp = s.inav[0].copy()\n",
    "s_temp = s.sum(0)\n",
    "s_temp.plot()"
   ]
  },
  {
   "cell_type": "code",
   "execution_count": 42,
   "id": "7c793047",
   "metadata": {},
   "outputs": [],
   "source": [
    "s_temp.isig[10:120,320:].plot()"
   ]
  },
  {
   "cell_type": "code",
   "execution_count": 43,
   "id": "4a4d4374-2690-44a6-8e2b-e50b19a5430b",
   "metadata": {},
   "outputs": [
    {
     "data": {
      "text/plain": [
       "<Signal2D, title: 9Frame Grabber 60 frames, dimensions: (|479, 473)>"
      ]
     },
     "execution_count": 43,
     "metadata": {},
     "output_type": "execute_result"
    }
   ],
   "source": [
    "s_temp"
   ]
  },
  {
   "cell_type": "code",
   "execution_count": 44,
   "id": "c5a4cdb9",
   "metadata": {},
   "outputs": [],
   "source": [
    "s_crop = s_temp.isig[10:120,320:]"
   ]
  },
  {
   "cell_type": "code",
   "execution_count": 45,
   "id": "682fe497",
   "metadata": {},
   "outputs": [],
   "source": [
    "s_peaks = am.get_feature_separation(s_crop, separation_range=(1, 10), show_progressbar=False)"
   ]
  },
  {
   "cell_type": "code",
   "execution_count": 46,
   "id": "f5905ee6",
   "metadata": {},
   "outputs": [],
   "source": [
    "s_peaks.plot()"
   ]
  },
  {
   "cell_type": "code",
   "execution_count": 47,
   "id": "3b32eb57",
   "metadata": {},
   "outputs": [],
   "source": [
    "atom_positions = am.get_atom_positions(s_crop, 5)"
   ]
  },
  {
   "cell_type": "code",
   "execution_count": 67,
   "id": "15cf3518",
   "metadata": {},
   "outputs": [],
   "source": [
    "atom_positions_A = am.add_atoms_with_gui(s_crop, atom_positions_A_copy)"
   ]
  },
  {
   "cell_type": "code",
   "execution_count": 59,
   "id": "67c2cf65-c165-4d2f-89dd-fc37603ce118",
   "metadata": {},
   "outputs": [],
   "source": [
    "atom_positions_A_copy = atom_positions_A.copy()"
   ]
  },
  {
   "cell_type": "code",
   "execution_count": 68,
   "id": "ef2a308d",
   "metadata": {},
   "outputs": [
    {
     "data": {
      "text/plain": [
       "<Sublattice,  (atoms:74,planes:0)>"
      ]
     },
     "execution_count": 68,
     "metadata": {},
     "output_type": "execute_result"
    }
   ],
   "source": [
    "sublattice_In = am.Sublattice(atom_positions_A, image=s_crop.data)\n",
    "sublattice_In"
   ]
  },
  {
   "cell_type": "code",
   "execution_count": 50,
   "id": "d123b93a",
   "metadata": {},
   "outputs": [],
   "source": [
    "s_crop.axes_manager\n",
    "x_offset = s_crop.axes_manager[0].offset\n",
    "y_offset = s_crop.axes_manager[1].offset\n",
    "x_scale = s_crop.axes_manager[0].scale\n",
    "y_scale = s_crop.axes_manager[1].scale"
   ]
  },
  {
   "cell_type": "code",
   "execution_count": 69,
   "id": "4d30fb27",
   "metadata": {},
   "outputs": [
    {
     "data": {
      "application/vnd.jupyter.widget-view+json": {
       "model_id": "3171664c3e61479982623b2f65af17be",
       "version_major": 2,
       "version_minor": 0
      },
      "text/plain": [
       "Center of mass:   0%|          | 0/74 [00:00<?, ?it/s]"
      ]
     },
     "metadata": {},
     "output_type": "display_data"
    },
    {
     "data": {
      "application/vnd.jupyter.widget-view+json": {
       "model_id": "2470ed895619488faccd833ebf34c0e0",
       "version_major": 2,
       "version_minor": 0
      },
      "text/plain": [
       "Gaussian fitting:   0%|          | 0/74 [00:00<?, ?it/s]"
      ]
     },
     "metadata": {},
     "output_type": "display_data"
    }
   ],
   "source": [
    "sublattice_In.find_nearest_neighbors(nearest_neighbors=20)\n",
    "sublattice_In.refine_atom_positions_using_center_of_mass(percent_to_nn=0.2)\n",
    "sublattice_In.refine_atom_positions_using_2d_gaussian(percent_to_nn=0.2)"
   ]
  },
  {
   "cell_type": "code",
   "execution_count": 77,
   "id": "089967b0",
   "metadata": {},
   "outputs": [],
   "source": [
    "sublattice_In.get_position_history().plot()"
   ]
  },
  {
   "cell_type": "code",
   "execution_count": 71,
   "id": "1333a1b3",
   "metadata": {},
   "outputs": [
    {
     "data": {
      "text/plain": [
       "<Sublattice,  (atoms:74,planes:14)>"
      ]
     },
     "execution_count": 71,
     "metadata": {},
     "output_type": "execute_result"
    }
   ],
   "source": [
    "sublattice_In.construct_zone_axes(atom_plane_tolerance=2)\n",
    "sublattice_In"
   ]
  },
  {
   "cell_type": "code",
   "execution_count": 72,
   "id": "a43a0f8e",
   "metadata": {},
   "outputs": [],
   "source": [
    "sublattice_In.plot_planes()"
   ]
  },
  {
   "cell_type": "code",
   "execution_count": 73,
   "id": "0dd24b20",
   "metadata": {},
   "outputs": [],
   "source": [
    "zone_axis_001 = sublattice_In.zones_axis_average_distances[2]\n",
    "B_positions = sublattice_In.find_missing_atoms_from_zone_vector(zone_axis_001)"
   ]
  },
  {
   "cell_type": "code",
   "execution_count": 75,
   "id": "5beb06ae",
   "metadata": {},
   "outputs": [
    {
     "data": {
      "application/vnd.jupyter.widget-view+json": {
       "model_id": "7b8ea9762fe84557bbaff150bc4efbb2",
       "version_major": 2,
       "version_minor": 0
      },
      "text/plain": [
       "Subtracting atoms:   0%|          | 0/74 [00:00<?, ?it/s]"
      ]
     },
     "metadata": {},
     "output_type": "display_data"
    }
   ],
   "source": [
    "from atomap.tools import remove_atoms_from_image_using_2d_gaussian\n",
    "image_without_A = remove_atoms_from_image_using_2d_gaussian(sublattice_In.image, sublattice_In)"
   ]
  },
  {
   "cell_type": "code",
   "execution_count": 427,
   "id": "c0330f17",
   "metadata": {},
   "outputs": [],
   "source": [
    "B_positions=am.add_atoms_with_gui(image_without_A, B_positions)"
   ]
  },
  {
   "cell_type": "code",
   "execution_count": 453,
   "id": "c9006855-fabf-4876-8e4b-37e1275abb09",
   "metadata": {},
   "outputs": [],
   "source": [
    "B_positions=am.add_atoms_with_gui(sublattice_In.image, B_positions)"
   ]
  },
  {
   "cell_type": "code",
   "execution_count": 450,
   "id": "27391b22-4fbd-42af-b51e-378db3f47e29",
   "metadata": {},
   "outputs": [],
   "source": [
    "B_positions_copy = B_positions.copy()"
   ]
  },
  {
   "cell_type": "code",
   "execution_count": 454,
   "id": "1cfe1476",
   "metadata": {},
   "outputs": [
    {
     "data": {
      "application/vnd.jupyter.widget-view+json": {
       "model_id": "902a86f4b7d3460bb4e84d21c4e0995b",
       "version_major": 2,
       "version_minor": 0
      },
      "text/plain": [
       "Gaussian fitting:   0%|          | 0/103 [00:00<?, ?it/s]"
      ]
     },
     "metadata": {},
     "output_type": "display_data"
    },
    {
     "name": "stderr",
     "output_type": "stream",
     "text": [
      "C:\\Users\\mengk\\HyperSpy-bundle\\Lib\\site-packages\\numpy\\core\\fromnumeric.py:3504: RuntimeWarning: Mean of empty slice.\n",
      "  return _methods._mean(a, axis=axis, dtype=dtype,\n",
      "C:\\Users\\mengk\\HyperSpy-bundle\\Lib\\site-packages\\numpy\\core\\_methods.py:129: RuntimeWarning: invalid value encountered in scalar divide\n",
      "  ret = ret.dtype.type(ret / rcount)\n"
     ]
    },
    {
     "name": "stdout",
     "output_type": "stream",
     "text": [
      "\u001b[33;20mWARNING | Hyperspy | Covariance of the parameters could not be estimated. Estimated parameter standard deviations will be np.nan. (hyperspy.model:1411)\u001b[0m\n",
      "\u001b[33;20mWARNING | Hyperspy | `m.fit()` did not exit successfully. Reason: Number of calls to function has reached maxfev = 1400. (hyperspy.model:1877)\u001b[0m\n",
      "\u001b[33;20mWARNING | Hyperspy | Covariance of the parameters could not be estimated. Estimated parameter standard deviations will be np.nan. (hyperspy.model:1411)\u001b[0m\n",
      "\u001b[33;20mWARNING | Hyperspy | `m.fit()` did not exit successfully. Reason: Number of calls to function has reached maxfev = 1400. (hyperspy.model:1877)\u001b[0m\n"
     ]
    }
   ],
   "source": [
    "sublattice_B = am.Sublattice(B_positions, image_without_A, color='blue')\n",
    "sublattice_B.find_nearest_neighbors(nearest_neighbors=30)\n",
    "#sublattice_B.construct_zone_axes()\n",
    "#sublattice_B.refine_atom_positions_using_center_of_mass(percent_to_nn=0.2)\n",
    "sublattice_B.refine_atom_positions_using_2d_gaussian(percent_to_nn=0.2)"
   ]
  },
  {
   "cell_type": "code",
   "execution_count": 430,
   "id": "506f40a8",
   "metadata": {},
   "outputs": [],
   "source": [
    "sublattice_B.get_position_history().plot()"
   ]
  },
  {
   "cell_type": "code",
   "execution_count": 455,
   "id": "62201e28",
   "metadata": {},
   "outputs": [],
   "source": [
    "atom_lattice = am.Atom_Lattice(image=s_crop.data, name='test', sublattice_list=[sublattice_In, sublattice_B])\n",
    "atom_lattice.plot()"
   ]
  },
  {
   "cell_type": "code",
   "execution_count": 476,
   "id": "4e478f28",
   "metadata": {},
   "outputs": [],
   "source": [
    "atom_lattice.save(\"whole atom_lattice.hdf5\", overwrite=True)"
   ]
  },
  {
   "cell_type": "code",
   "execution_count": 477,
   "id": "e4288dc6",
   "metadata": {},
   "outputs": [],
   "source": [
    "import numpy as np\n",
    "blue_pure_beta_x_ranges = [(74, 82), (87, 93), (100,107)]\n",
    "red_pure_beta_x_ranges = [(81, 87), (97, 102)]\n",
    "blue_pure_beta_coord = []\n",
    "red_pure_beta_coord = []\n",
    "\n",
    "\n",
    "# Function to slice the positions based on x range and calculate distances\n",
    "def filter_dots(sublattice_A, sublattice_B, blue_ranges, red_ranges):\n",
    "    distances = []\n",
    "    Bx_position = sublattice_B.x_position\n",
    "    By_position = sublattice_B.y_position\n",
    "    Rx_position = sublattice_A.x_position\n",
    "    Ry_position = sublattice_A.y_position\n",
    "    for blue_range in blue_ranges:\n",
    "        blue_x = Bx_position[(Bx_position >= blue_range[0]) & (Bx_position <= blue_range[1])]\n",
    "        blue_y = By_position[(Bx_position >= blue_range[0]) & (Bx_position <= blue_range[1])]\n",
    "        blue_pure_beta_coord.append((blue_x,blue_y))\n",
    "    for red_range in red_ranges:\n",
    "        red_x = Rx_position[(Rx_position >= red_range[0]) & (Rx_position <= red_range[1])]\n",
    "        red_y = Ry_position[(Rx_position >= red_range[0]) & (Rx_position <= red_range[1])]\n",
    "        red_pure_beta_coord.append((red_x,red_y))\n",
    "    return distances\n",
    "\n",
    "# Call the function and calculate distances\n",
    "distances = filter_dots(sublattice_In, sublattice_B,blue_pure_beta_x_ranges, red_pure_beta_x_ranges)\n",
    "blue_pure_beta_column_x = [blue_pure_beta_coord[i][0] for i in range(len(blue_pure_beta_coord))]\n",
    "blue_pure_beta_column_y = [blue_pure_beta_coord[i][1] for i in range(len(blue_pure_beta_coord))]\n",
    "red_pure_beta_column_x = [red_pure_beta_coord[i][0] for i in range(len(red_pure_beta_coord))]\n",
    "red_pure_beta_column_y = [red_pure_beta_coord[i][1] for i in range(len(red_pure_beta_coord))]"
   ]
  },
  {
   "cell_type": "code",
   "execution_count": 483,
   "id": "52c676a8",
   "metadata": {
    "scrolled": true
   },
   "outputs": [],
   "source": [
    "import numpy as np\n",
    "from math import sqrt\n",
    "def sort_dots(x, y):\n",
    "    sorted_indices = np.argsort(y)\n",
    "    sorted_x = x[sorted_indices]\n",
    "    sorted_y = y[sorted_indices]\n",
    "    return sorted_x, sorted_y\n",
    "def distance(x1, x2, y1, y2):\n",
    "    return np.sqrt((x1 - x2) ** 2 + (y1 - y2) ** 2)\n",
    "def plot_center_to_nearest_reds(blue_center_x, blue_center_y, red_x, red_y, color, x_scale):\n",
    "    distance_list = []\n",
    "    for bcx, bcy in zip(blue_center_x, blue_center_y):\n",
    "        for rx, ry in zip(red_x, red_y):\n",
    "            d = distance(bcx, rx, bcy, ry)\n",
    "            if bcx >rx and ry < bcy and d <15:\n",
    "                plt.plot([bcx, rx], [bcy, ry], color)  # Plot line to each of the two nearest red dots\n",
    "                distance_list.append(d * x_scale)  # Scale and append the distance\n",
    "            elif bcx <rx and ry > bcy and d <15:\n",
    "                plt.plot([bcx, rx], [bcy, ry], color)  # Plot line to each of the two nearest red dots\n",
    "                distance_list.append(d* x_scale)  # Scale and append the distance\n",
    "    return distance_list\n",
    "\n",
    "plt.imshow(s_crop.data, cmap='gray')\n",
    "for i in range(len(blue_pure_beta_column_x )):\n",
    "    blue_pure_beta_column_x[i],blue_pure_beta_column_y[i]=sort_dots(blue_pure_beta_column_x[i],blue_pure_beta_column_y[i])\n",
    "    plt.scatter(blue_pure_beta_column_x[i],blue_pure_beta_column_y[i],color='b' )\n",
    "for i in range(len(red_pure_beta_column_x )):\n",
    "    red_pure_beta_column_x[i],red_pure_beta_column_y[i]=sort_dots(red_pure_beta_column_x[i],red_pure_beta_column_y[i])\n",
    "    plt.scatter(red_pure_beta_column_x[i],red_pure_beta_column_y[i],color='r' )\n",
    "all_red_pure_beta_x = np.concatenate([red_pure_beta_column_x[0], red_pure_beta_column_x[1]])\n",
    "all_red_pure_beta_y = np.concatenate([red_pure_beta_column_y[0], red_pure_beta_column_y[1]])\n",
    "all_blue_pure_beta_x = np.concatenate([blue_pure_beta_column_x[0], blue_pure_beta_column_x[1],blue_pure_beta_column_x[2]])\n",
    "all_blue_pure_beta_y = np.concatenate([blue_pure_beta_column_y[0], blue_pure_beta_column_y[1],blue_pure_beta_column_y[2]])\n",
    "distance_list_pure_beta = []\n",
    "distance_list_pure_beta.extend(plot_center_to_nearest_reds(all_blue_pure_beta_x, all_blue_pure_beta_y, all_red_pure_beta_x, all_red_pure_beta_y, 'g-', x_scale))\n",
    "plt.show()"
   ]
  },
  {
   "cell_type": "code",
   "execution_count": 481,
   "id": "ab270bb9-650d-442f-a746-3d9a4b430e0d",
   "metadata": {},
   "outputs": [],
   "source": [
    "import numpy as np\n",
    "blue_def_beta_x_ranges = [(42, 48), (51, 56), (63,70)]\n",
    "red_def_beta_x_ranges = [(45, 50), (55, 65)]\n",
    "blue_def_beta_coord = []\n",
    "red_def_beta_coord = []\n",
    "\n",
    "\n",
    "# Function to slice the positions based on x range and calculate distances\n",
    "def filter_dots(blue_coord,red_coord, sublattice_A, sublattice_B, blue_ranges, red_ranges):\n",
    "    Bx_position = sublattice_B.x_position\n",
    "    By_position = sublattice_B.y_position\n",
    "    Rx_position = sublattice_A.x_position\n",
    "    Ry_position = sublattice_A.y_position\n",
    "    for blue_range in blue_ranges:\n",
    "        blue_x = Bx_position[(Bx_position >= blue_range[0]) & (Bx_position <= blue_range[1])]\n",
    "        blue_y = By_position[(Bx_position >= blue_range[0]) & (Bx_position <= blue_range[1])]\n",
    "        blue_def_beta_coord.append((blue_x,blue_y))\n",
    "    for red_range in red_ranges:\n",
    "        red_x = Rx_position[(Rx_position >= red_range[0]) & (Rx_position <= red_range[1])]\n",
    "        red_y = Ry_position[(Rx_position >= red_range[0]) & (Rx_position <= red_range[1])]\n",
    "        red_def_beta_coord.append((red_x,red_y))\n",
    "    return blue_coord,red_coord, \n",
    "\n",
    "# Call the function and calculate distances\n",
    "blue_def_beta_coord,red_def_beta_coord = filter_dots(blue_def_beta_coord,red_def_beta_coord,sublattice_In, sublattice_B,blue_def_beta_x_ranges, red_def_beta_x_ranges)\n",
    "blue_def_beta_column_x = [blue_def_beta_coord[i][0] for i in range(len(blue_def_beta_coord))]\n",
    "blue_def_beta_column_y = [blue_def_beta_coord[i][1] for i in range(len(blue_def_beta_coord))]\n",
    "red_def_beta_column_x = [red_def_beta_coord[i][0] for i in range(len(red_def_beta_coord))]\n",
    "red_def_beta_column_y = [red_def_beta_coord[i][1] for i in range(len(red_def_beta_coord))]"
   ]
  },
  {
   "cell_type": "code",
   "execution_count": 487,
   "id": "3c300cab-5a8d-46f6-9bbb-94b1cc245c36",
   "metadata": {},
   "outputs": [],
   "source": [
    "plt.imshow(s_crop.data, cmap='gray')\n",
    "for i in range(len(blue_def_beta_column_x )):\n",
    "    blue_def_beta_column_x[i],blue_def_beta_column_y[i]=sort_dots(blue_def_beta_column_x[i],blue_def_beta_column_y[i])\n",
    "    plt.scatter(blue_def_beta_column_x[i],blue_def_beta_column_y[i],color='b' )\n",
    "for i in range(len(red_def_beta_column_x )):\n",
    "    red_def_beta_column_x[i],red_def_beta_column_y[i]=sort_dots(red_def_beta_column_x[i],red_def_beta_column_y[i])\n",
    "    plt.scatter(red_def_beta_column_x[i],red_def_beta_column_y[i],color='r' )\n",
    "all_red_def_beta_x = np.concatenate([red_def_beta_column_x[0], red_def_beta_column_x[1]])\n",
    "all_red_def_beta_y = np.concatenate([red_def_beta_column_y[0], red_def_beta_column_y[1]])\n",
    "all_blue_def_beta_x = np.concatenate([blue_def_beta_column_x[0], blue_def_beta_column_x[1],blue_def_beta_column_x[2]])\n",
    "all_blue_def_beta_y = np.concatenate([blue_def_beta_column_y[0], blue_def_beta_column_y[1],blue_def_beta_column_y[2]])\n",
    "distance_list_def_beta = []\n",
    "distance_list_def_beta.extend(plot_center_to_nearest_reds(all_blue_def_beta_x, all_blue_def_beta_y, all_red_def_beta_x, all_red_def_beta_y, 'g-', x_scale))\n",
    "plt.show()"
   ]
  },
  {
   "cell_type": "code",
   "execution_count": 486,
   "id": "ede4bfa4-c2b8-436b-a851-57b126904f82",
   "metadata": {},
   "outputs": [],
   "source": [
    "import numpy as np\n",
    "blue_trans_upper_x_ranges = [(2, 8), (15, 23), (23,33)]\n",
    "red_trans_upper_x_ranges = [(6, 14), (14, 24),(25,38)]\n",
    "y_trans_upper = 102\n",
    "\n",
    "blue_trans_upper_coord = []\n",
    "red_trans_upper_coord = []\n",
    "\n",
    "\n",
    "# Function to slice the positions based on x range and calculate distances\n",
    "def filter_dots(blue_coord,red_coord, sublattice_A, sublattice_B, blue_ranges, red_ranges,y):\n",
    "    Bx_position = sublattice_B.x_position\n",
    "    By_position = sublattice_B.y_position\n",
    "    Rx_position = sublattice_A.x_position\n",
    "    Ry_position = sublattice_A.y_position\n",
    "    for blue_range in blue_ranges:\n",
    "        blue_x = Bx_position[(Bx_position >= blue_range[0]) & (Bx_position <= blue_range[1]) & (By_position < y) ]\n",
    "        blue_y = By_position[(Bx_position >= blue_range[0]) & (Bx_position <= blue_range[1]) & (By_position < y ) ]\n",
    "        blue_coord.append((blue_x,blue_y))\n",
    "    for red_range in red_ranges:\n",
    "        red_x = Rx_position[(Rx_position >= red_range[0]) & (Rx_position <= red_range[1]) & (Ry_position < y ) ]\n",
    "        red_y = Ry_position[(Rx_position >= red_range[0]) & (Rx_position <= red_range[1]) & (Ry_position < y) ]\n",
    "        red_coord.append((red_x,red_y))\n",
    "    return blue_coord,red_coord\n",
    "\n",
    "# Call the function and calculate distances\n",
    "blue_trans_upper_coord,red_trans_upper_coord  = filter_dots(blue_trans_upper_coord,red_trans_upper_coord ,sublattice_In, sublattice_B,blue_trans_upper_x_ranges, red_trans_upper_x_ranges,y_trans_upper)\n",
    "blue_trans_upper_column_x = [blue_trans_upper_coord[i][0] for i in range(len(blue_trans_upper_coord))]\n",
    "blue_trans_upper_column_y = [blue_trans_upper_coord[i][1] for i in range(len(blue_trans_upper_coord))]\n",
    "red_trans_upper_column_x = [red_trans_upper_coord[i][0] for i in range(len(red_trans_upper_coord))]\n",
    "red_trans_upper_column_y = [red_trans_upper_coord[i][1] for i in range(len(red_trans_upper_coord))]"
   ]
  },
  {
   "cell_type": "code",
   "execution_count": 489,
   "id": "d945f699-d68f-4839-a010-80b58f139158",
   "metadata": {},
   "outputs": [],
   "source": [
    "plt.imshow(s_crop.data, cmap='gray')\n",
    "for i in range(len(blue_trans_upper_column_x )):\n",
    "    blue_trans_upper_column_x[i],blue_trans_upper_column_y[i]=sort_dots(blue_trans_upper_column_x[i],blue_trans_upper_column_y[i])\n",
    "    plt.scatter(blue_trans_upper_column_x[i],blue_trans_upper_column_y[i],color='b' )\n",
    "for i in range(len(red_trans_upper_column_x )):\n",
    "    red_trans_upper_column_x[i],red_trans_upper_column_y[i]=sort_dots(red_trans_upper_column_x[i],red_trans_upper_column_y[i])\n",
    "    plt.scatter(red_trans_upper_column_x[i],red_trans_upper_column_y[i],color='r')\n",
    "def plot_bonds_upper(blue_center_x, blue_center_y, red_x, red_y, color, x_scale):\n",
    "    distance_list = []\n",
    "    for bcx, bcy in zip(blue_center_x, blue_center_y):\n",
    "        for rx, ry in zip(red_x, red_y):\n",
    "            d = distance(bcx, rx, bcy, ry)\n",
    "            if d <7 and d >2:\n",
    "                plt.plot([bcx, rx], [bcy, ry], color)  # Plot line to each of the two nearest red dots\n",
    "                distance_list.append(d * x_scale)  # Scale and append the distance\n",
    "    return distance_list\n",
    "all_red_trans_upper_x = np.concatenate([red_trans_upper_column_x[0], red_trans_upper_column_x[1],red_trans_upper_column_x[2]])\n",
    "all_red_trans_upper_y = np.concatenate([red_trans_upper_column_y[0], red_trans_upper_column_y[1], red_trans_upper_column_y[2]])\n",
    "all_blue_trans_upper_x = np.concatenate([blue_trans_upper_column_x[0], blue_trans_upper_column_x[1],blue_trans_upper_column_x[2]])\n",
    "all_blue_trans_upper_y = np.concatenate([blue_trans_upper_column_y[0], blue_trans_upper_column_y[1],blue_trans_upper_column_y[2]])\n",
    "distance_list__trans_upper = []\n",
    "distance_list__trans_upper.extend(plot_bonds_upper(all_blue_trans_upper_x, all_blue_trans_upper_y, all_red_trans_upper_x, all_red_trans_upper_y, 'g-', x_scale))\n",
    "plt.show()"
   ]
  },
  {
   "cell_type": "code",
   "execution_count": 465,
   "id": "b1bdf988-3b0e-4890-8e7e-c42e434329db",
   "metadata": {},
   "outputs": [],
   "source": [
    "import numpy as np\n",
    "blue_trans_lower_x_ranges = [(2, 12), (15, 23), (23,33)]\n",
    "red_trans_lower_x_ranges = [(6, 14), (23,38)]\n",
    "y_trans_lower = 102\n",
    "\n",
    "blue_trans_lower_coord = []\n",
    "red_trans_lower_coord = []\n",
    "\n",
    "\n",
    "# Function to slice the positions based on x range and calculate distances\n",
    "def filter_dots(blue_coord,red_coord, sublattice_A, sublattice_B, blue_ranges, red_ranges,y):\n",
    "    Bx_position = sublattice_B.x_position\n",
    "    By_position = sublattice_B.y_position\n",
    "    Rx_position = sublattice_A.x_position\n",
    "    Ry_position = sublattice_A.y_position\n",
    "    for blue_range in blue_ranges:\n",
    "        blue_x = Bx_position[(Bx_position >= blue_range[0]) & (Bx_position <= blue_range[1]) & (By_position > y) ]\n",
    "        blue_y = By_position[(Bx_position >= blue_range[0]) & (Bx_position <= blue_range[1]) & (By_position > y ) ]\n",
    "        blue_coord.append((blue_x,blue_y))\n",
    "    for red_range in red_ranges:\n",
    "        red_x = Rx_position[(Rx_position >= red_range[0]) & (Rx_position <= red_range[1]) & (Ry_position > y ) ]\n",
    "        red_y = Ry_position[(Rx_position >= red_range[0]) & (Rx_position <= red_range[1]) & (Ry_position > y) ]\n",
    "        red_coord.append((red_x,red_y))\n",
    "    return blue_coord,red_coord\n",
    "\n",
    "# Call the function and calculate distances\n",
    "blue_trans_lower_coord,red_trans_lower_coord  = filter_dots(blue_trans_lower_coord,red_trans_lower_coord ,sublattice_In, sublattice_B,blue_trans_lower_x_ranges, red_trans_lower_x_ranges,y_trans_lower)\n",
    "blue_trans_lower_column_x = [blue_trans_lower_coord[i][0] for i in range(len(blue_trans_lower_coord))]\n",
    "blue_trans_lower_column_y = [blue_trans_lower_coord[i][1] for i in range(len(blue_trans_lower_coord))]\n",
    "red_trans_lower_column_x = [red_trans_lower_coord[i][0] for i in range(len(red_trans_lower_coord))]\n",
    "red_trans_lower_column_y = [red_trans_lower_coord[i][1] for i in range(len(red_trans_lower_coord))]"
   ]
  },
  {
   "cell_type": "code",
   "execution_count": 510,
   "id": "7fbf68ca-fd9b-42c4-b004-e7850adc0dd2",
   "metadata": {},
   "outputs": [],
   "source": [
    "plt.imshow(s_crop.data, cmap='gray')\n",
    "for i in range(len(blue_trans_lower_column_x )):\n",
    "    blue_trans_lower_column_x[i],blue_trans_lower_column_y[i]=sort_dots(blue_trans_lower_column_x[i],blue_trans_lower_column_y[i])\n",
    "    plt.scatter(blue_trans_lower_column_x[i],blue_trans_lower_column_y[i],color='b' )\n",
    "for i in range(len(red_trans_lower_column_x )):\n",
    "    red_trans_lower_column_x[i],red_trans_lower_column_y[i]=sort_dots(red_trans_lower_column_x[i],red_trans_lower_column_y[i])\n",
    "    plt.scatter(red_trans_lower_column_x[i],red_trans_lower_column_y[i],color='r')\n",
    "def plot_bonds_lower(blue_center_x, blue_center_y, red_x, red_y, color, x_scale):\n",
    "    distance_list = []\n",
    "    for bcx, bcy in zip(blue_center_x, blue_center_y):\n",
    "        for rx, ry in zip(red_x, red_y):\n",
    "            d = distance(bcx, rx, bcy, ry)\n",
    "            if d <8.7 and d>8.5:\n",
    "                pass\n",
    "                #plt.plot([bcx, rx], [bcy, ry], 'w')  # Plot line to each of the two nearest red dots\n",
    "                #distance_list.append(d * x_scale)  # Scale and append the distance\n",
    "            elif d <9:\n",
    "                plt.plot([bcx, rx], [bcy, ry], color)  # Plot line to each of the two nearest red dots\n",
    "                distance_list.append(d * x_scale)  # Scale and append the distance\n",
    "    return distance_list\n",
    "all_red_trans_lower_x = np.concatenate([red_trans_lower_column_x[0], red_trans_lower_column_x[1]])\n",
    "all_red_trans_lower_y = np.concatenate([red_trans_lower_column_y[0], red_trans_lower_column_y[1]])\n",
    "all_blue_trans_lower_x = np.concatenate([blue_trans_lower_column_x[0], blue_trans_lower_column_x[1],blue_trans_lower_column_x[2]])\n",
    "all_blue_trans_lower_y = np.concatenate([blue_trans_lower_column_y[0], blue_trans_lower_column_y[1],blue_trans_lower_column_y[2]])\n",
    "distance_list_trans_lower = []\n",
    "distance_list_trans_lower.extend(plot_bonds_lower(all_blue_trans_lower_x, all_blue_trans_lower_y, all_red_trans_lower_x, all_red_trans_lower_y, 'g-', x_scale))\n",
    "plt.show()"
   ]
  },
  {
   "cell_type": "code",
   "execution_count": 475,
   "id": "db1bfbe0-1c9d-4acd-8715-e44f73f6d639",
   "metadata": {},
   "outputs": [],
   "source": [
    "plt.imshow(s_crop.data, cmap='gray')\n",
    "for i in range(len(blue_pure_beta_column_x )):\n",
    "    blue_pure_beta_column_x[i],blue_pure_beta_column_y[i]=sort_dots(blue_pure_beta_column_x[i],blue_pure_beta_column_y[i])\n",
    "    plt.scatter(blue_pure_beta_column_x[i],blue_pure_beta_column_y[i],color='b' )\n",
    "for i in range(len(red_pure_beta_column_x )):\n",
    "    red_pure_beta_column_x[i],red_pure_beta_column_y[i]=sort_dots(red_pure_beta_column_x[i],red_pure_beta_column_y[i])\n",
    "    plt.scatter(red_pure_beta_column_x[i],red_pure_beta_column_y[i],color='r' )\n",
    "\n",
    "for i in range(len(blue_def_beta_column_x )):\n",
    "    blue_def_beta_column_x[i],blue_def_beta_column_y[i]=sort_dots(blue_def_beta_column_x[i],blue_def_beta_column_y[i])\n",
    "    plt.scatter(blue_def_beta_column_x[i],blue_def_beta_column_y[i],color='b' )\n",
    "for i in range(len(red_def_beta_column_x )):\n",
    "    red_def_beta_column_x[i],red_def_beta_column_y[i]=sort_dots(red_def_beta_column_x[i],red_def_beta_column_y[i])\n",
    "    plt.scatter(red_def_beta_column_x[i],red_def_beta_column_y[i],color='r' )\n",
    "\n",
    "\n",
    "#trans_upper\n",
    "for i in range(len(blue_trans_upper_column_x )):\n",
    "    blue_trans_upper_column_x[i],blue_trans_upper_column_y[i]=sort_dots(blue_trans_upper_column_x[i],blue_trans_upper_column_y[i])\n",
    "    plt.scatter(blue_trans_upper_column_x[i],blue_trans_upper_column_y[i],color='r' )\n",
    "for i in range(len(red_trans_upper_column_x )):\n",
    "    red_trans_upper_column_x[i],red_trans_upper_column_y[i]=sort_dots(red_trans_upper_column_x[i],red_trans_upper_column_y[i])\n",
    "    plt.scatter(red_trans_upper_column_x[i],red_trans_upper_column_y[i],color='b')\n",
    "#trans_lower\n",
    "for i in range(len(blue_trans_lower_column_x )):\n",
    "    blue_trans_lower_column_x[i],blue_trans_lower_column_y[i]=sort_dots(blue_trans_lower_column_x[i],blue_trans_lower_column_y[i])\n",
    "    plt.scatter(blue_trans_lower_column_x[i],blue_trans_lower_column_y[i],color='b' )\n",
    "for i in range(len(red_trans_lower_column_x )):\n",
    "    red_trans_lower_column_x[i],red_trans_lower_column_y[i]=sort_dots(red_trans_lower_column_x[i],red_trans_lower_column_y[i])\n",
    "    plt.scatter(red_trans_lower_column_x[i],red_trans_lower_column_y[i],color='r')\n",
    "distance_list_pure_beta = []\n",
    "distance_list_def_beta = []\n",
    "distance_list_trans_upper = []\n",
    "distance_list_trans_lower = []\n",
    "distance_list_pure_beta.extend(plot_center_to_nearest_reds(all_blue_pure_beta_x, all_blue_pure_beta_y, all_red_pure_beta_x, all_red_pure_beta_y, 'g-', x_scale))\n",
    "distance_list_def_beta.extend(plot_center_to_nearest_reds(all_blue_def_beta_x, all_blue_def_beta_y, all_red_def_beta_x, all_red_def_beta_y, 'g-', x_scale))\n",
    "distance_list_trans_upper.extend(plot_bonds_upper(all_blue_trans_upper_x, all_blue_trans_upper_y, all_red_trans_upper_x, all_red_trans_upper_y, 'g-', x_scale))\n",
    "distance_list_trans_lower.extend(plot_bonds_lower(all_blue_trans_lower_x, all_blue_trans_lower_y, all_red_trans_lower_x, all_red_trans_lower_y, 'g-', x_scale))\n",
    "plt.show()\n"
   ]
  },
  {
   "cell_type": "code",
   "execution_count": 491,
   "id": "37bd048f-71dc-44f3-b349-c0682914f844",
   "metadata": {},
   "outputs": [
    {
     "data": {
      "application/vnd.jupyter.widget-view+json": {
       "model_id": "",
       "version_major": 2,
       "version_minor": 0
      },
      "text/plain": [
       "Calculating Voronoi:   0%|          | 0/16830 [00:00<?, ?it/s]"
      ]
     },
     "metadata": {},
     "output_type": "display_data"
    },
    {
     "data": {
      "application/vnd.jupyter.widget-view+json": {
       "model_id": "8ed434b5a8634a298344630c23126f7f",
       "version_major": 2,
       "version_minor": 0
      },
      "text/plain": [
       "Integrating:   0%|          | 0/74 [00:00<?, ?it/s]"
      ]
     },
     "metadata": {},
     "output_type": "display_data"
    },
    {
     "data": {
      "application/vnd.jupyter.widget-view+json": {
       "model_id": "",
       "version_major": 2,
       "version_minor": 0
      },
      "text/plain": [
       "Building intensity map:   0%|          | 0/16830 [00:00<?, ?it/s]"
      ]
     },
     "metadata": {},
     "output_type": "display_data"
    },
    {
     "data": {
      "application/vnd.jupyter.widget-view+json": {
       "model_id": "",
       "version_major": 2,
       "version_minor": 0
      },
      "text/plain": [
       "Calculating Voronoi:   0%|          | 0/16830 [00:00<?, ?it/s]"
      ]
     },
     "metadata": {},
     "output_type": "display_data"
    },
    {
     "data": {
      "application/vnd.jupyter.widget-view+json": {
       "model_id": "f966e4c6bc7c4eefac9ca3ed564b76e1",
       "version_major": 2,
       "version_minor": 0
      },
      "text/plain": [
       "Integrating:   0%|          | 0/103 [00:00<?, ?it/s]"
      ]
     },
     "metadata": {},
     "output_type": "display_data"
    },
    {
     "data": {
      "application/vnd.jupyter.widget-view+json": {
       "model_id": "",
       "version_major": 2,
       "version_minor": 0
      },
      "text/plain": [
       "Building intensity map:   0%|          | 0/16830 [00:00<?, ?it/s]"
      ]
     },
     "metadata": {},
     "output_type": "display_data"
    }
   ],
   "source": [
    "i_points_In, i_record_In, p_record_In = sublattice_In.integrate_column_intensity(max_radius=3)\n",
    "i_points_B, i_record_B, p_record_B = sublattice_B.integrate_column_intensity(max_radius=3)\n",
    "fig, ax = plt.subplots()\n",
    "\n",
    "i_record_In.plot(ax=ax,cmap='viridis',scalebar=False,alpha =0.50)\n",
    "i_record_B.plot(ax=ax,cmap='viridis',scalebar=False,alpha =0.50)\n",
    "s_crop.plot(ax=ax,cmap='gray',alpha =1)\n",
    "plt.show()"
   ]
  },
  {
   "cell_type": "code",
   "execution_count": 493,
   "id": "5abcd845-2eb2-4ad2-a940-d352b9d83b5a",
   "metadata": {},
   "outputs": [],
   "source": [
    "masked_data_B = np.ma.masked_invalid(i_record_B.data)\n",
    "masked_data_In = np.ma.masked_invalid(i_record_In.data)\n",
    "cmap = plt.cm.viridis  \n",
    "cmap.set_bad(color='none')\n",
    "fig, ax = plt.subplots()\n",
    "global_vmin = min(np.min(masked_data_B), np.min(masked_data_In))\n",
    "global_vmax = max(np.max(masked_data_B), np.max(masked_data_In))\n",
    "\n",
    "ax.imshow(s_crop.data, cmap='gray', alpha=1)\n",
    "ax.imshow(masked_data_B, cmap=cmap,  vmin=global_vmin, vmax=global_vmax,alpha=0.6)  # fully opaque\n",
    "ax.imshow(masked_data_In, cmap=cmap,vmin=global_vmin, vmax=global_vmax, alpha=0.6)\n",
    "im = ax.imshow(masked_data_In, cmap=cmap, vmin=global_vmin, vmax=global_vmax, alpha=0.5)\n",
    "cbar = fig.colorbar(im, ax=ax, orientation='vertical')\n",
    "cbar.set_label('Intensity')\n",
    "\n",
    "plt.show()"
   ]
  },
  {
   "cell_type": "code",
   "execution_count": 494,
   "id": "80add66e-38d2-42fa-b08f-ae8a0a3acf3a",
   "metadata": {},
   "outputs": [],
   "source": [
    "In_Se_ratio = np.average(i_points_In) / np.average(i_points_B)\n",
    "std_normalized_In = np.std(i_points_In) / np.average(i_points_In)\n",
    "std_normalized_B = np.std(i_points_B) / np.average(i_points_B)\n",
    "data_to_save = np.array([In_Se_ratio, std_normalized_In, std_normalized_B])\n",
    "np.savetxt('Beta In_Se_ratio, StdDev_In_to_Avg_In, StdDev_B_to_Avg_B.txt',data_to_save, header='In_Se_ratio, StdDev_In/Avg_In, StdDev_B/Avg_B')\n",
    "np.savetxt('Beta In_intensity.txt',i_points_In)\n",
    "np.savetxt('Beta B_intensity.txt',i_points_B)"
   ]
  },
  {
   "cell_type": "code",
   "execution_count": 495,
   "id": "ac656147-0118-4c6e-92e0-33cacef956ca",
   "metadata": {},
   "outputs": [],
   "source": [
    "import statistics as st\n",
    "def stat(distance):\n",
    "    data = distance\n",
    "    avg = sum(distance)/len(distance)\n",
    "    std = st.stdev(data)\n",
    "    count =len(distance)\n",
    "    return {'data':data, 'average':avg,'stdev':std,'counts':count}\n",
    "stats_result1 = stat(distance_list_pure_beta)\n",
    "stats_str1 = \"\\n\".join(f\"{key}: {value}\" for key, value in stats_result1.items())\n",
    "stats_result2 = stat(distance_list_def_beta)\n",
    "stats_str2 = \"\\n\".join(f\"{key}: {value}\" for key, value in stats_result2.items())\n",
    "# Save the string to a file\n",
    "stats_result3 = stat(distance_list_trans_upper)\n",
    "stats_str3 = \"\\n\".join(f\"{key}: {value}\" for key, value in stats_result3.items())\n",
    "stats_result4 = stat(distance_list_trans_lower)\n",
    "stats_str4 = \"\\n\".join(f\"{key}: {value}\" for key, value in stats_result4.items())\n",
    "# Save the string to a file\n",
    "file_path1 = 'pure beta.txt'  # Specify your desired file path\n",
    "with open(file_path1, 'w') as file:\n",
    "    file.write(stats_str1)\n",
    "# Save the string to a file\n",
    "file_path2 = 'defective beta.txt'  # Specify your desired file path\n",
    "with open(file_path2, 'w') as file:\n",
    "    file.write(stats_str2)\n",
    "file_path3 = 'transition upper.txt'  # Specify your desired file path\n",
    "with open(file_path3, 'w') as file:\n",
    "    file.write(stats_str3)\n",
    "# Save the string to a file\n",
    "file_path4 = 'transition lower.txt'  # Specify your desired file path\n",
    "with open(file_path4, 'w') as file:\n",
    "    file.write(stats_str4)"
   ]
  },
  {
   "cell_type": "code",
   "execution_count": 521,
   "id": "c8ce04b5-a7e5-457e-8895-4b091a379408",
   "metadata": {},
   "outputs": [],
   "source": [
    "def plot_beta(blue_center_x, blue_center_y, red_x, red_y, color, x_scale):\n",
    "    distance_list = []\n",
    "    for bcx, bcy in zip(blue_center_x, blue_center_y):\n",
    "        for rx, ry in zip(red_x, red_y):\n",
    "            d = distance(bcx, rx, bcy, ry)\n",
    "            if bcx >90 and bcx <92.5 and rx >97:\n",
    "                if bcy > ry and d<20:\n",
    "                    plt.plot([bcx, rx], [bcy, ry], 'w')  # Plot line to each of the two nearest red dots\n",
    "                    distance_list.append(d * x_scale)  # Scale and append the distance\n",
    "            if bcx >54 and bcx <56 and rx >61 and rx<64:\n",
    "                if bcy > ry and d<20:\n",
    "                    plt.plot([bcx, rx], [bcy, ry], 'w')  # Plot line to each of the two nearest red dots\n",
    "                    distance_list.append(d * x_scale)  # Scale and append the distance\n",
    "            if bcx >rx and ry < bcy and d <12:\n",
    "                plt.plot([bcx, rx], [bcy, ry], color)  # Plot line to each of the two nearest red dots\n",
    "            elif bcx <rx and ry > bcy and d <12:\n",
    "                plt.plot([bcx, rx], [bcy, ry], color)  # Plot line to each of the two nearest red dots\n",
    "    return distance_list\n",
    "def plot_bonds_trans(blue_center_x, blue_center_y, red_x, red_y, color, x_scale):\n",
    "    distance_list = []\n",
    "    for bcx, bcy in zip(blue_center_x, blue_center_y):\n",
    "        for rx, ry in zip(red_x, red_y):\n",
    "            d = distance(bcx, rx, bcy, ry)\n",
    "            if bcx >16 and bcx <21 and rx >20 and rx<29:\n",
    "                if bcy > ry and d<15:\n",
    "                    plt.plot([bcx, rx], [bcy, ry], 'w')  # Plot line to each of the two nearest red dots\n",
    "                    distance_list.append(d * x_scale)  # Scale and append the distance\n",
    "            elif d <7 and d >2:\n",
    "                plt.plot([bcx, rx], [bcy, ry], color)  # Plot line to each of the two nearest red dots\n",
    "    return distance_list\n",
    "def plot_bonds_lower(blue_center_x, blue_center_y, red_x, red_y, color, x_scale):\n",
    "    distance_list = []\n",
    "    for bcx, bcy in zip(blue_center_x, blue_center_y):\n",
    "        for rx, ry in zip(red_x, red_y):\n",
    "            d = distance(bcx, rx, bcy, ry)\n",
    "            if bcx>17 and bcx<22 and bcy>ry and d <13 and rx>21:\n",
    "                plt.plot([bcx, rx], [bcy, ry], 'w')  # Plot line to each of the two nearest red dots\n",
    "                #distance_list.append(d * x_scale)  # Scale and append the distance\n",
    "            elif d <9:\n",
    "                plt.plot([bcx, rx], [bcy, ry], color)  # Plot line to each of the two nearest red dots\n",
    "                distance_list.append(d * x_scale)  # Scale and append the distance\n",
    "    return distance_list\n",
    "\n",
    "plt.imshow(s_crop.data, cmap='gray')\n",
    "for i in range(len(blue_pure_beta_column_x )):\n",
    "    blue_pure_beta_column_x[i],blue_pure_beta_column_y[i]=sort_dots(blue_pure_beta_column_x[i],blue_pure_beta_column_y[i])\n",
    "    plt.scatter(blue_pure_beta_column_x[i],blue_pure_beta_column_y[i],color='b' )\n",
    "for i in range(len(red_pure_beta_column_x )):\n",
    "    red_pure_beta_column_x[i],red_pure_beta_column_y[i]=sort_dots(red_pure_beta_column_x[i],red_pure_beta_column_y[i])\n",
    "    plt.scatter(red_pure_beta_column_x[i],red_pure_beta_column_y[i],color='r' )\n",
    "\n",
    "for i in range(len(blue_def_beta_column_x )):\n",
    "    blue_def_beta_column_x[i],blue_def_beta_column_y[i]=sort_dots(blue_def_beta_column_x[i],blue_def_beta_column_y[i])\n",
    "    plt.scatter(blue_def_beta_column_x[i],blue_def_beta_column_y[i],color='b' )\n",
    "for i in range(len(red_def_beta_column_x )):\n",
    "    red_def_beta_column_x[i],red_def_beta_column_y[i]=sort_dots(red_def_beta_column_x[i],red_def_beta_column_y[i])\n",
    "    plt.scatter(red_def_beta_column_x[i],red_def_beta_column_y[i],color='r' )\n",
    "\n",
    "\n",
    "#trans_upper\n",
    "for i in range(len(blue_trans_upper_column_x )):\n",
    "    blue_trans_upper_column_x[i],blue_trans_upper_column_y[i]=sort_dots(blue_trans_upper_column_x[i],blue_trans_upper_column_y[i])\n",
    "    plt.scatter(blue_trans_upper_column_x[i],blue_trans_upper_column_y[i],color='b' )\n",
    "for i in range(len(red_trans_upper_column_x )):\n",
    "    red_trans_upper_column_x[i],red_trans_upper_column_y[i]=sort_dots(red_trans_upper_column_x[i],red_trans_upper_column_y[i])\n",
    "    plt.scatter(red_trans_upper_column_x[i],red_trans_upper_column_y[i],color='r')\n",
    "#trans_lower\n",
    "for i in range(len(blue_trans_lower_column_x )):\n",
    "    blue_trans_lower_column_x[i],blue_trans_lower_column_y[i]=sort_dots(blue_trans_lower_column_x[i],blue_trans_lower_column_y[i])\n",
    "    plt.scatter(blue_trans_lower_column_x[i],blue_trans_lower_column_y[i],color='b' )\n",
    "for i in range(len(red_trans_lower_column_x )):\n",
    "    red_trans_lower_column_x[i],red_trans_lower_column_y[i]=sort_dots(red_trans_lower_column_x[i],red_trans_lower_column_y[i])\n",
    "    plt.scatter(red_trans_lower_column_x[i],red_trans_lower_column_y[i],color='r')\n",
    "distance_special_beta = []\n",
    "distance_special_zigzag =[]\n",
    "distance_special_lower = []\n",
    "distance_special_beta.extend(plot_beta(all_blue_pure_beta_x, all_blue_pure_beta_y, all_red_pure_beta_x, all_red_pure_beta_y, 'g-', x_scale))\n",
    "distance_special_beta.extend(plot_beta(all_blue_def_beta_x, all_blue_def_beta_y, all_red_def_beta_x, all_red_def_beta_y, 'g-', x_scale))\n",
    "distance_special_zigzag.extend(plot_bonds_trans(all_blue_trans_upper_x, all_blue_trans_upper_y, all_red_trans_upper_x, all_red_trans_upper_y, 'g-', x_scale))\n",
    "distance_special_lower.extend(plot_bonds_lower(all_blue_trans_lower_x, all_blue_trans_lower_y, all_red_trans_lower_x, all_red_trans_lower_y, 'g-', x_scale))\n",
    "plt.show()"
   ]
  },
  {
   "cell_type": "code",
   "execution_count": 522,
   "id": "c5e973bc-1cb8-4e42-b031-406ee69b188d",
   "metadata": {},
   "outputs": [],
   "source": [
    "stats1 = stat(distance_special_beta)\n",
    "stats_1 = \"\\n\".join(f\"{key}: {value}\" for key, value in stats1.items())\n",
    "stats_2 = \"\\n\".join(str(i) for i in distance_special_zigzag)\n",
    "stats_3 = \"\\n\".join(str(i) for i in distance_special_lower)\n",
    "file1 = 'big bond_beta.txt'  # Specify your desired file path\n",
    "with open(file1, 'w') as file:\n",
    "    file.write(stats_1)\n",
    "# Save the string to a file\n",
    "file_path2 = 'big bond_zigzag.txt'  # Specify your desired file path\n",
    "with open(file_path2, 'w') as file:\n",
    "    file.write(stats_2)\n",
    "file_path3 = 'big bond_transition_lower.txt'  # Specify your desired file path\n",
    "with open(file_path3, 'w') as file:\n",
    "    file.write(stats_3)"
   ]
  },
  {
   "cell_type": "code",
   "execution_count": 525,
   "id": "9b0d3c42-ced9-4b6e-bef9-972545d1bc3c",
   "metadata": {},
   "outputs": [],
   "source": [
    "distance_4plot = []\n",
    "def plot_beta_only(blue_center_x, blue_center_y, red_x, red_y, x_scale):\n",
    "    for bcx, bcy in zip(blue_center_x, blue_center_y):\n",
    "        for rx, ry in zip(red_x, red_y):\n",
    "            d = distance(bcx, rx, bcy, ry)\n",
    "            if bcx >90 and bcx <92.5 and rx >97:\n",
    "                if bcy > ry and d<20:\n",
    "                    d2 = d * x_scale\n",
    "                    distance_4plot.append(d2)\n",
    "                    plt.plot([bcx, rx], [bcy, ry], 'w')  # Plot line to each of the two nearest red dots\n",
    "            if bcx >54 and bcx <56 and rx >61 and rx<64:\n",
    "                if bcy > ry and d<20:\n",
    "                    d2 = d * x_scale\n",
    "                    plt.plot([bcx, rx], [bcy, ry], 'w')  # Plot line to each of the two nearest red dots\n",
    "                    distance_4plot.append(d2)\n",
    "def plot_bonds_trans_only(blue_center_x, blue_center_y, red_x, red_y, color, x_scale):\n",
    "    for bcx, bcy in zip(blue_center_x, blue_center_y):\n",
    "        for rx, ry in zip(red_x, red_y):\n",
    "            d = distance(bcx, rx, bcy, ry)\n",
    "            if bcx >16 and bcx <21 and rx >20 and rx<29:\n",
    "                if bcy > ry and d<15:\n",
    "                    d2 = d * x_scale\n",
    "                    plt.plot([bcx, rx], [bcy, ry], 'w')  # Plot line to each of the two nearest red dots\n",
    "                    distance_4plot.append(d2)\n",
    "plt.imshow(s_crop.data, cmap='gray')\n",
    "for i in range(len(blue_pure_beta_column_x )):\n",
    "    blue_pure_beta_column_x[i],blue_pure_beta_column_y[i]=sort_dots(blue_pure_beta_column_x[i],blue_pure_beta_column_y[i])\n",
    "    plt.scatter(blue_pure_beta_column_x[i],blue_pure_beta_column_y[i],color='b' )\n",
    "for i in range(len(red_pure_beta_column_x )):\n",
    "    red_pure_beta_column_x[i],red_pure_beta_column_y[i]=sort_dots(red_pure_beta_column_x[i],red_pure_beta_column_y[i])\n",
    "    plt.scatter(red_pure_beta_column_x[i],red_pure_beta_column_y[i],color='r' )\n",
    "\n",
    "for i in range(len(blue_def_beta_column_x )):\n",
    "    blue_def_beta_column_x[i],blue_def_beta_column_y[i]=sort_dots(blue_def_beta_column_x[i],blue_def_beta_column_y[i])\n",
    "    plt.scatter(blue_def_beta_column_x[i],blue_def_beta_column_y[i],color='b' )\n",
    "for i in range(len(red_def_beta_column_x )):\n",
    "    red_def_beta_column_x[i],red_def_beta_column_y[i]=sort_dots(red_def_beta_column_x[i],red_def_beta_column_y[i])\n",
    "    plt.scatter(red_def_beta_column_x[i],red_def_beta_column_y[i],color='r' )\n",
    "\n",
    "#trans_upper\n",
    "for i in range(len(blue_trans_upper_column_x )):\n",
    "    blue_trans_upper_column_x[i],blue_trans_upper_column_y[i]=sort_dots(blue_trans_upper_column_x[i],blue_trans_upper_column_y[i])\n",
    "    plt.scatter(blue_trans_upper_column_x[i],blue_trans_upper_column_y[i],color='b' )\n",
    "for i in range(len(red_trans_upper_column_x )):\n",
    "    red_trans_upper_column_x[i],red_trans_upper_column_y[i]=sort_dots(red_trans_upper_column_x[i],red_trans_upper_column_y[i])\n",
    "    plt.scatter(red_trans_upper_column_x[i],red_trans_upper_column_y[i],color='r')\n",
    "#trans_lower\n",
    "for i in range(len(blue_trans_lower_column_x )):\n",
    "    blue_trans_lower_column_x[i],blue_trans_lower_column_y[i]=sort_dots(blue_trans_lower_column_x[i],blue_trans_lower_column_y[i])\n",
    "    plt.scatter(blue_trans_lower_column_x[i],blue_trans_lower_column_y[i],color='b' )\n",
    "for i in range(len(red_trans_lower_column_x )):\n",
    "    red_trans_lower_column_x[i],red_trans_lower_column_y[i]=sort_dots(red_trans_lower_column_x[i],red_trans_lower_column_y[i])\n",
    "    plt.scatter(red_trans_lower_column_x[i],red_trans_lower_column_y[i],color='r')\n",
    "\n",
    "plot_beta_only(all_blue_pure_beta_x, all_blue_pure_beta_y, all_red_pure_beta_x, all_red_pure_beta_y, x_scale)\n",
    "plot_beta_only(all_blue_def_beta_x, all_blue_def_beta_y, all_red_def_beta_x, all_red_def_beta_y, x_scale)\n",
    "plot_bonds_trans_only(all_blue_trans_upper_x, all_blue_trans_upper_y, all_red_trans_upper_x, all_red_trans_upper_y, 'g-', x_scale)\n",
    "plot_bonds_trans_only(all_blue_trans_lower_x, all_blue_trans_lower_y, all_red_trans_lower_x, all_red_trans_lower_y, 'g-', x_scale)\n",
    "plt.show()"
   ]
  },
  {
   "cell_type": "code",
   "execution_count": 526,
   "id": "33e63618-af69-44af-a759-2eb5cb70ccf6",
   "metadata": {},
   "outputs": [
    {
     "data": {
      "text/plain": [
       "<matplotlib.image.AxesImage at 0x271834f0b50>"
      ]
     },
     "execution_count": 526,
     "metadata": {},
     "output_type": "execute_result"
    }
   ],
   "source": [
    "import numpy as np\n",
    "import matplotlib.pyplot as plt\n",
    "import matplotlib.colors as mcolors\n",
    "import matplotlib.cm as cm\n",
    "norm = mcolors.Normalize(vmin=min(distance_4plot), vmax=max(distance_4plot))\n",
    "# Step 1: Define the colors for the colormap (white to gray)\n",
    "colors = [\"white\",\"white\", 'yellow', 'c',\"black\",\"black\"]  # You can specify a hex code or RGB tuple for precise color control\n",
    "\n",
    "# Step 2: Create the colormap\n",
    "cmap2 = mcolors.LinearSegmentedColormap.from_list(\"custom_white_gray\", colors)\n",
    "\n",
    "# Step 3: Test the colormap with a simple plot\n",
    "gradient_x = np.linspace(0, 1, 256)  # Create a gradient from 0 to 1\n",
    "gradient = np.tile(gradient_x, (1, 1))  # Tile the gradient to make a 2D array\n",
    "plt.imshow(gradient, aspect='auto', cmap=cmap2)"
   ]
  },
  {
   "cell_type": "code",
   "execution_count": 527,
   "id": "6cfc9bf2-7098-41be-92c2-6fca8420017b",
   "metadata": {},
   "outputs": [],
   "source": [
    "def plot_beta_only(blue_center_x, blue_center_y, red_x, red_y, x_scale):\n",
    "    for bcx, bcy in zip(blue_center_x, blue_center_y):\n",
    "        for rx, ry in zip(red_x, red_y):\n",
    "            d = distance(bcx, rx, bcy, ry)\n",
    "            if bcx >90 and bcx <92.5 and rx >97:\n",
    "                if bcy > ry and d<20:\n",
    "                    d2 = d * x_scale\n",
    "                    plt.plot([bcx, rx], [bcy, ry], color = cmap2(norm(d2)))  # Plot line to each of the two nearest red dots\n",
    "            if bcx >54 and bcx <56 and rx >61 and rx<64:\n",
    "                if bcy > ry and d<20:\n",
    "                    d2 = d * x_scale\n",
    "                    color = cmap(norm(d2))\n",
    "                    plt.plot([bcx, rx], [bcy, ry], color = cmap2(norm(d2)))  # Plot line to each of the two nearest red dots\n",
    "                    \n",
    "def plot_bonds_trans_only(blue_center_x, blue_center_y, red_x, red_y,  x_scale):\n",
    "    for bcx, bcy in zip(blue_center_x, blue_center_y):\n",
    "        for rx, ry in zip(red_x, red_y):\n",
    "            d = distance(bcx, rx, bcy, ry)\n",
    "            if bcx >16 and bcx <21 and rx >20 and rx<29:\n",
    "                if bcy > ry and d<15 and d>4:\n",
    "                    d2 = d * x_scale\n",
    "                    color = cmap(norm(d2))\n",
    "                    plt.plot([bcx, rx], [bcy, ry], color = cmap2(norm(d2)))  # Plot line to each of the two nearest red dots\n",
    "plt.imshow(s_crop.data, cmap='gray')\n",
    "for i in range(len(blue_pure_beta_column_x )):\n",
    "    blue_pure_beta_column_x[i],blue_pure_beta_column_y[i]=sort_dots(blue_pure_beta_column_x[i],blue_pure_beta_column_y[i])\n",
    "    plt.scatter(blue_pure_beta_column_x[i],blue_pure_beta_column_y[i],color='b' )\n",
    "for i in range(len(red_pure_beta_column_x )):\n",
    "    red_pure_beta_column_x[i],red_pure_beta_column_y[i]=sort_dots(red_pure_beta_column_x[i],red_pure_beta_column_y[i])\n",
    "    plt.scatter(red_pure_beta_column_x[i],red_pure_beta_column_y[i],color='r' )\n",
    "\n",
    "for i in range(len(blue_def_beta_column_x )):\n",
    "    blue_def_beta_column_x[i],blue_def_beta_column_y[i]=sort_dots(blue_def_beta_column_x[i],blue_def_beta_column_y[i])\n",
    "    plt.scatter(blue_def_beta_column_x[i],blue_def_beta_column_y[i],color='b' )\n",
    "for i in range(len(red_def_beta_column_x )):\n",
    "    red_def_beta_column_x[i],red_def_beta_column_y[i]=sort_dots(red_def_beta_column_x[i],red_def_beta_column_y[i])\n",
    "    plt.scatter(red_def_beta_column_x[i],red_def_beta_column_y[i],color='r' )\n",
    "\n",
    "#trans_upper\n",
    "for i in range(len(blue_trans_upper_column_x )):\n",
    "    blue_trans_upper_column_x[i],blue_trans_upper_column_y[i]=sort_dots(blue_trans_upper_column_x[i],blue_trans_upper_column_y[i])\n",
    "    plt.scatter(blue_trans_upper_column_x[i],blue_trans_upper_column_y[i],color='b' )\n",
    "for i in range(len(red_trans_upper_column_x )):\n",
    "    red_trans_upper_column_x[i],red_trans_upper_column_y[i]=sort_dots(red_trans_upper_column_x[i],red_trans_upper_column_y[i])\n",
    "    plt.scatter(red_trans_upper_column_x[i],red_trans_upper_column_y[i],color='r')\n",
    "#trans_lower\n",
    "for i in range(len(blue_trans_lower_column_x )):\n",
    "    blue_trans_lower_column_x[i],blue_trans_lower_column_y[i]=sort_dots(blue_trans_lower_column_x[i],blue_trans_lower_column_y[i])\n",
    "    plt.scatter(blue_trans_lower_column_x[i],blue_trans_lower_column_y[i],color='b' )\n",
    "for i in range(len(red_trans_lower_column_x )):\n",
    "    red_trans_lower_column_x[i],red_trans_lower_column_y[i]=sort_dots(red_trans_lower_column_x[i],red_trans_lower_column_y[i])\n",
    "    plt.scatter(red_trans_lower_column_x[i],red_trans_lower_column_y[i],color='r')\n",
    "\n",
    "plot_beta_only(all_blue_pure_beta_x, all_blue_pure_beta_y, all_red_pure_beta_x, all_red_pure_beta_y,  x_scale)\n",
    "plot_beta_only(all_blue_def_beta_x, all_blue_def_beta_y, all_red_def_beta_x, all_red_def_beta_y,  x_scale)\n",
    "plot_bonds_trans_only(all_blue_trans_upper_x, all_blue_trans_upper_y, all_red_trans_upper_x, all_red_trans_upper_y,  x_scale)\n",
    "plot_bonds_trans_only(all_blue_trans_lower_x, all_blue_trans_lower_y, all_red_trans_lower_x, all_red_trans_lower_y, x_scale)\n",
    "plt.show()"
   ]
  },
  {
   "cell_type": "code",
   "execution_count": null,
   "id": "bbbabde2-55e4-49fc-b1e5-115113d20a16",
   "metadata": {},
   "outputs": [],
   "source": []
  }
 ],
 "metadata": {
  "kernelspec": {
   "display_name": "Python [conda env:HyperSpy-bundle] *",
   "language": "python",
   "name": "conda-env-HyperSpy-bundle-py"
  },
  "language_info": {
   "codemirror_mode": {
    "name": "ipython",
    "version": 3
   },
   "file_extension": ".py",
   "mimetype": "text/x-python",
   "name": "python",
   "nbconvert_exporter": "python",
   "pygments_lexer": "ipython3",
   "version": "3.11.8"
  }
 },
 "nbformat": 4,
 "nbformat_minor": 5
}
