{
 "cells": [
  {
   "cell_type": "code",
   "execution_count": 1,
   "id": "df19cd90",
   "metadata": {},
   "outputs": [],
   "source": [
    "%matplotlib qt\n",
    "import matplotlib.pyplot as plt\n",
    "import atomap.api as am\n",
    "import hyperspy.api as hs"
   ]
  },
  {
   "cell_type": "code",
   "execution_count": 2,
   "id": "a39a719b-a677-47f7-8947-312b6e9d0d59",
   "metadata": {},
   "outputs": [],
   "source": [
    "#!pip install ipython --upgrade\n",
    "#!pip install matplotlib --upgrade"
   ]
  },
  {
   "cell_type": "code",
   "execution_count": 2,
   "id": "60fe4aed",
   "metadata": {},
   "outputs": [],
   "source": [
    "s_whole = hs.load('whole half.hspy') \n",
    "s_1 = hs.load('first half.hspy') \n",
    "s_2 = hs.load('second half.hspy') "
   ]
  },
  {
   "cell_type": "code",
   "execution_count": 3,
   "id": "7f5aa5f4-2aa6-4232-81e8-6604d089f065",
   "metadata": {},
   "outputs": [],
   "source": [
    "s_whole.plot()"
   ]
  },
  {
   "cell_type": "code",
   "execution_count": 160,
   "id": "1e04ef8c",
   "metadata": {},
   "outputs": [],
   "source": [
    "s_1.plot()\n",
    "#s.axes_manager #pixel size = 0.02622468769550323nm"
   ]
  },
  {
   "cell_type": "code",
   "execution_count": 161,
   "id": "26701fab-7f7f-44b1-a876-9786b779365d",
   "metadata": {},
   "outputs": [],
   "source": [
    "s_crop =s_1"
   ]
  },
  {
   "cell_type": "code",
   "execution_count": 162,
   "id": "d123b93a",
   "metadata": {},
   "outputs": [],
   "source": [
    "s_crop.axes_manager\n",
    "x_offset = s_crop.axes_manager[0].offset\n",
    "y_offset = s_crop.axes_manager[1].offset\n",
    "x_scale = s_crop.axes_manager[0].scale\n",
    "y_scale = s_crop.axes_manager[1].scale"
   ]
  },
  {
   "cell_type": "code",
   "execution_count": 163,
   "id": "41d3cf8d",
   "metadata": {},
   "outputs": [],
   "source": [
    "atom_lattice = am.load_atom_lattice_from_hdf5('atom_lattice_beta_whole2.hdf5')"
   ]
  },
  {
   "cell_type": "code",
   "execution_count": 165,
   "id": "dbcafa2c",
   "metadata": {},
   "outputs": [],
   "source": [
    "sublattice_A = atom_lattice.sublattice_list[0]\n",
    "sublattice_B = atom_lattice.sublattice_list[1]"
   ]
  },
  {
   "cell_type": "code",
   "execution_count": 485,
   "id": "6e93ad2d-ff5c-4d87-839b-cdb0f56aeb7c",
   "metadata": {},
   "outputs": [],
   "source": [
    "atom_lattice.plot()"
   ]
  },
  {
   "cell_type": "code",
   "execution_count": 467,
   "id": "e4288dc6",
   "metadata": {},
   "outputs": [],
   "source": [
    "import numpy as np\n",
    "blue_columns_x_ranges = [(3, 7), (38, 41), (27,30),(62,65)]\n",
    "red_columns_x_ranges = [(8, 10), (43, 45),(22,25),(58,60)]\n",
    "blue_ccolumns_x_ranges = [(14, 18), (49, 53)]\n",
    "blue_coord = []\n",
    "red_coord = []\n",
    "blue_ccoord = []\n",
    "\n",
    "\n",
    "# Function to slice the positions based on x range and calculate distances\n",
    "def calculate_distances(sublattice_A, sublattice_B, blue_ranges, red_ranges,blue_ccolumns_x_ranges):\n",
    "    distances_side = []\n",
    "    distances_center = []  # Assuming you intend to use this for some calculations\n",
    "    for blue_range, red_range in zip(blue_ranges, red_ranges):\n",
    "        # Slice the x positions based on the given range\n",
    "        blue_x = sublattice_B.x_position[(sublattice_B.x_position >= blue_range[0]) & (sublattice_B.x_position <= blue_range[1])]\n",
    "        red_x = sublattice_A.x_position[(sublattice_A.x_position >= red_range[0]) & (sublattice_A.x_position <= red_range[1])]\n",
    "        \n",
    "        # Assuming that the y positions follow the same order as x positions\n",
    "        blue_y = sublattice_B.y_position[(sublattice_B.x_position >= blue_range[0]) & (sublattice_B.x_position <= blue_range[1])]\n",
    "        red_y = sublattice_A.y_position[(sublattice_A.x_position >= red_range[0]) & (sublattice_A.x_position <= red_range[1])]\n",
    "        blue_coord.append((blue_x,blue_y))\n",
    "        red_coord.append((red_x,red_y))\n",
    "        # Calculate distances between all pairs of blue and red dots within the sliced range\n",
    "        for bx, by in zip(blue_x, blue_y):\n",
    "            for rx, ry in zip(red_x, red_y):\n",
    "                distance = np.sqrt((bx - rx)**2 + (by - ry)**2)\n",
    "                distances_side.append(distance)\n",
    "        for center_range in blue_ccolumns_x_ranges:\n",
    "            blue_center_x = sublattice_B.x_position[(sublattice_B.x_position >= center_range[0]) & (sublattice_B.x_position <= center_range[1])]\n",
    "            blue_center_y = sublattice_B.y_position[(sublattice_B.x_position >= center_range[0]) & (sublattice_B.x_position <= center_range[1])]\n",
    "            blue_ccoord.append((blue_center_x, blue_center_y))  # Correctly append tuples\n",
    "            # Assuming we need to find the nearest red points for each blue center point\n",
    "        for bx, by in zip(blue_center_x, blue_center_y):\n",
    "            for r_x, r_y in zip(red_x, red_y):\n",
    "                coord = find_nearest_two_points(bx, by, r_x, r_y)\n",
    "                if coord is not None:\n",
    "                    rx,ry = coord\n",
    "                    distance = np.sqrt((bx - rx)**2 + (by - ry)**2)\n",
    "                    distances_center.append(distance)\n",
    "\n",
    "    return distances_side, distances_center\n",
    "\n",
    "# Call the function and calculate distances\n",
    "distances_side,distance_center = calculate_distances(sublattice_A, sublattice_B, blue_columns_x_ranges, red_columns_x_ranges,blue_ccolumns_x_ranges)\n",
    "blue_x_1,blue_y_1 = blue_coord[0][0],blue_coord[0][1]\n",
    "red_x_1,red_y_1  = red_coord[0][0],red_coord[0][1]\n",
    "blue_x_2,blue_y_2 = blue_coord[1][0], blue_coord[1][1]\n",
    "red_x_2,red_y_2  = red_coord[1][0],red_coord[1][1]\n",
    "blue_x_3,blue_y_3 = blue_coord[2][0],blue_coord[2][1]\n",
    "red_x_3,red_y_3  = red_coord[2][0],red_coord[2][1]\n",
    "blue_x_4,blue_y_4 = blue_coord[3][0], blue_coord[3][1]\n",
    "red_x_4,red_y_4  = red_coord[3][0],red_coord[3][1]\n",
    "blue_cx_1,blue_cy_1 = blue_ccoord[0][0],blue_ccoord[0][1]\n",
    "blue_cx_2,blue_cy_2 = blue_ccoord[1][0], blue_ccoord[1][1]"
   ]
  },
  {
   "cell_type": "code",
   "execution_count": 484,
   "id": "fde8d138-a371-4a9f-91a1-a23966abfba0",
   "metadata": {},
   "outputs": [],
   "source": [
    "%matplotlib qt\n",
    "import numpy as np\n",
    "from math import sqrt\n",
    "import matplotlib.pyplot as plt\n",
    "image_height, image_width = s_crop.data.shape\n",
    "scale_factor = 20 \n",
    "fig_width = image_width / float(scale_factor)\n",
    "fig_height = image_height / float(scale_factor)\n",
    "plt.figure(figsize=(fig_width, fig_height))\n",
    "def sort_dots(x, y):\n",
    "    sorted_indices = np.argsort(y)\n",
    "    sorted_x = x[sorted_indices]\n",
    "    sorted_y = y[sorted_indices]\n",
    "    return sorted_x, sorted_y\n",
    "\n",
    "def distance(x1, x2, y1, y2):\n",
    "    return sqrt((x1 - x2) ** 2 + (y1 - y2) ** 2)\n",
    "\n",
    "def plot_distances(blue_x, blue_y, red_x, red_y, color, x_scale):\n",
    "    sorted_blue_x, sorted_blue_y = sort_dots(blue_x, blue_y)\n",
    "    sorted_red_x, sorted_red_y = sort_dots(red_x, red_y)\n",
    "    distance_list = []\n",
    "    \n",
    "    for bx, by, rx, ry in zip(sorted_blue_x, sorted_blue_y, sorted_red_x, sorted_red_y):\n",
    "        plt.plot([bx, rx], [by, ry], color)\n",
    "        distance_list.append(distance(bx, rx, by, ry) * x_scale)\n",
    "    return distance_list\n",
    "\n",
    "\n",
    "plt.figure(figsize=(fig_width, fig_height),dpi=300)\n",
    "plt.imshow(s_crop.data[:115,:], cmap='gray')\n",
    "plt.scatter(blue_x_1,blue_y_1,color='b',s=5)\n",
    "plt.scatter(red_x_1,red_y_1,color='r',s=5)\n",
    "plt.scatter(blue_x_2,blue_y_2,color='b',s=5)\n",
    "plt.scatter(red_x_2,red_y_2,color='r',s=5)\n",
    "plt.scatter(blue_x_3,blue_y_3,color='b',s=5)\n",
    "plt.scatter(red_x_3,red_y_3,color='r',s=5)\n",
    "plt.scatter(blue_x_4,blue_y_4,color='b',s=5)\n",
    "plt.scatter(red_x_4,red_y_4,color='r',s=5)\n",
    "plt.scatter(blue_cx_1, blue_cy_1, color='b',s=5)\n",
    "plt.scatter(blue_cx_2, blue_cy_2, color='b',s=5)\n",
    "distance_list_side = []\n",
    "distance_list_side.extend(plot_distances(blue_x_1, blue_y_1, red_x_1, red_y_1, 'g-', x_scale))\n",
    "distance_list_side.extend(plot_distances(blue_x_2, blue_y_2, red_x_2, red_y_2, 'g-', x_scale))\n",
    "distance_list_side.extend(plot_distances(blue_x_3, blue_y_3, red_x_3, red_y_3, 'g-', x_scale))\n",
    "distance_list_side.extend(plot_distances(blue_x_4, blue_y_4, red_x_4, red_y_4, 'g-', x_scale))\n",
    "def plot_center_to_nearest_reds(blue_center_x, blue_center_y, red_x, red_y, color, x_scale):\n",
    "    distance_list = []\n",
    "    # Assuming red_x, red_y are the overall red dots, not sorted per segment as before\n",
    "    #blue_center_x, blue_center_y = sort_dots(blue_center_x, blue_center_y)\n",
    "    #red_x, red_y = sort_dots(red_x, red_y)\n",
    "    for bcx, bcy in zip(blue_center_x, blue_center_y):\n",
    "        for rx, ry in zip(red_x, red_y):\n",
    "            d = distance(bcx, rx, bcy, ry)\n",
    "            if bcx >rx and ry < bcy and d <16:\n",
    "                plt.plot([bcx, rx], [bcy, ry], color)  # Plot line to each of the two nearest red dots\n",
    "                distance_list.append(d * x_scale)  # Scale and append the distance\n",
    "                #distances.append(distance(bcx, rx, bcy, ry))\n",
    "                #nearest_two_indices.append \n",
    "            elif bcx <rx and ry > bcy and d <16:\n",
    "\n",
    "                plt.plot([bcx, rx], [bcy, ry], color)  # Plot line to each of the two nearest red dots\n",
    "                distance_list.append(d* x_scale)  # Scale and append the distance\n",
    "                #distances.append(distance(bcx, rx, bcy, ry))\n",
    "        #nearest_two_indices = np.argsort(distances)[:2]  # Get indices of the nearest two red dots\n",
    "        \n",
    "        #for idx in nearest_two_indices:\n",
    "       # plt.plot([bcx, red_x[idx]], [bcy, red_y[idx]], color)  # Plot line to each of the two nearest red dots\n",
    "        #distance_list.append(distances[idx] * x_scale)  # Scale and append the distance\n",
    "\n",
    "    return distance_list\n",
    "red_x_1,red_y_1 =sort_dots(red_x_1,red_y_1 )\n",
    "red_x_2,red_y_2 =sort_dots(red_x_2,red_y_2 )\n",
    "red_x_3,red_y_3 =sort_dots(red_x_3,red_y_3 )\n",
    "red_x_4,red_y_4 =sort_dots(red_x_4,red_y_4 )\n",
    "all_red_x_1 = np.concatenate([red_x_1, red_x_3])\n",
    "all_red_y_1 = np.concatenate([red_y_1, red_y_3])\n",
    "all_red_x_2 = np.concatenate([red_x_2, red_x_4])\n",
    "all_red_y_2 = np.concatenate([red_y_2, red_y_4])\n",
    "\n",
    "distance_list_center = []\n",
    "distance_list_center.extend(plot_center_to_nearest_reds(blue_cx_1, blue_cy_1, all_red_x_1, all_red_y_1, 'g-', x_scale))\n",
    "distance_list_center.extend(plot_center_to_nearest_reds(blue_cx_2, blue_cy_2, all_red_x_2, all_red_y_2, 'g-', x_scale))\n",
    "#plt.savefig('Figure1.tif')"
   ]
  },
  {
   "cell_type": "code",
   "execution_count": 479,
   "id": "44956212-72df-4e9b-aa73-152e00ce1e13",
   "metadata": {},
   "outputs": [
    {
     "data": {
      "application/vnd.jupyter.widget-view+json": {
       "model_id": "",
       "version_major": 2,
       "version_minor": 0
      },
      "text/plain": [
       "Calculating Voronoi:   0%|          | 0/7910 [00:00<?, ?it/s]"
      ]
     },
     "metadata": {},
     "output_type": "display_data"
    },
    {
     "data": {
      "application/vnd.jupyter.widget-view+json": {
       "model_id": "bfb9e533779a4378bb8bb9623492980f",
       "version_major": 2,
       "version_minor": 0
      },
      "text/plain": [
       "Integrating:   0%|          | 0/34 [00:00<?, ?it/s]"
      ]
     },
     "metadata": {},
     "output_type": "display_data"
    },
    {
     "data": {
      "application/vnd.jupyter.widget-view+json": {
       "model_id": "",
       "version_major": 2,
       "version_minor": 0
      },
      "text/plain": [
       "Building intensity map:   0%|          | 0/7910 [00:00<?, ?it/s]"
      ]
     },
     "metadata": {},
     "output_type": "display_data"
    },
    {
     "data": {
      "application/vnd.jupyter.widget-view+json": {
       "model_id": "",
       "version_major": 2,
       "version_minor": 0
      },
      "text/plain": [
       "Calculating Voronoi:   0%|          | 0/7910 [00:00<?, ?it/s]"
      ]
     },
     "metadata": {},
     "output_type": "display_data"
    },
    {
     "data": {
      "application/vnd.jupyter.widget-view+json": {
       "model_id": "307fec54136f40f8a17d85f9e36cfdf2",
       "version_major": 2,
       "version_minor": 0
      },
      "text/plain": [
       "Integrating:   0%|          | 0/49 [00:00<?, ?it/s]"
      ]
     },
     "metadata": {},
     "output_type": "display_data"
    },
    {
     "data": {
      "application/vnd.jupyter.widget-view+json": {
       "model_id": "",
       "version_major": 2,
       "version_minor": 0
      },
      "text/plain": [
       "Building intensity map:   0%|          | 0/7910 [00:00<?, ?it/s]"
      ]
     },
     "metadata": {},
     "output_type": "display_data"
    }
   ],
   "source": [
    "i_points_In, i_record_In, p_record_In = sublattice_A.integrate_column_intensity(max_radius=3)\n",
    "i_points_B, i_record_B, p_record_B = sublattice_B.integrate_column_intensity(max_radius=3)\n",
    "fig, ax = plt.subplots()\n",
    "\n",
    "i_record_In.plot(ax=ax,cmap='viridis',scalebar=False,alpha =0.50)\n",
    "i_record_B.plot(ax=ax,cmap='viridis',scalebar=False,alpha =0.50)\n",
    "s_crop.plot(ax=ax,cmap='gray',alpha =1)\n",
    "plt.show()"
   ]
  },
  {
   "cell_type": "code",
   "execution_count": 478,
   "id": "3f566ae0-a79d-4047-bf94-aa46c29b06c6",
   "metadata": {},
   "outputs": [],
   "source": [
    "masked_data_B = np.ma.masked_invalid(i_record_B.data)\n",
    "masked_data_In = np.ma.masked_invalid(i_record_In.data)\n",
    "cmap = plt.cm.viridis  \n",
    "cmap.set_bad(color='none')\n",
    "fig, ax = plt.subplots()\n",
    "global_vmin = min(np.min(masked_data_B), np.min(masked_data_In))\n",
    "global_vmax = max(np.max(masked_data_B), np.max(masked_data_In))\n",
    "\n",
    "ax.imshow(s_crop.data, cmap='gray', alpha=1)\n",
    "ax.imshow(masked_data_B, cmap=cmap,  vmin=global_vmin, vmax=global_vmax,alpha=0.6)  # fully opaque\n",
    "ax.imshow(masked_data_In, cmap=cmap,vmin=global_vmin, vmax=global_vmax, alpha=0.6)\n",
    "im = ax.imshow(masked_data_In, cmap=cmap, vmin=global_vmin, vmax=global_vmax, alpha=0.5)\n",
    "cbar = fig.colorbar(im, ax=ax, orientation='vertical')\n",
    "cbar.set_label('Intensity')\n",
    "\n",
    "plt.show()"
   ]
  },
  {
   "cell_type": "code",
   "execution_count": 483,
   "id": "68839b94-605a-4de7-8e20-5fb175ca67f4",
   "metadata": {},
   "outputs": [
    {
     "data": {
      "text/plain": [
       "(126, 70)"
      ]
     },
     "execution_count": 483,
     "metadata": {},
     "output_type": "execute_result"
    }
   ],
   "source": [
    "np.shape(s_crop.data)"
   ]
  },
  {
   "cell_type": "code",
   "execution_count": 476,
   "id": "40bfda7b-db3d-45ef-84ac-2f0c9f9242d5",
   "metadata": {},
   "outputs": [],
   "source": [
    "import statistics as st\n",
    "def stat(distance):\n",
    "    data = distance\n",
    "    avg = sum(distance)/len(distance)\n",
    "    std = st.stdev(data)\n",
    "    count =len(distance)\n",
    "    return {'data':data, 'average':avg,'stdev':std,'counts':count}\n",
    "stats_result_center = stat(distance_list_center)\n",
    "stats_str1 = \"\\n\".join(f\"{key}: {value}\" for key, value in stats_result_center.items())\n",
    "stats_result_side = stat(distance_list_side)\n",
    "stats_str2 = \"\\n\".join(f\"{key}: {value}\" for key, value in stats_result_side.items())\n",
    "# Save the string to a file\n",
    "file_path = 'center_distance_statistics.txt'  # Specify your desired file path\n",
    "with open(file_path, 'w') as file:\n",
    "    file.write(stats_str1)\n",
    "# Save the string to a file\n",
    "file_path2 = 'side_distance_statistics.txt'  # Specify your desired file path\n",
    "with open(file_path2, 'w') as file:\n",
    "    file.write(stats_str2)"
   ]
  },
  {
   "cell_type": "code",
   "execution_count": 477,
   "id": "2ddb1ac7-f68f-41a4-8ced-683f90dfb4ff",
   "metadata": {},
   "outputs": [],
   "source": [
    "In_Se_ratio = np.average(i_points_In) / np.average(i_points_B)\n",
    "std_normalized_In = np.std(i_points_In) / np.average(i_points_In)\n",
    "std_normalized_B = np.std(i_points_B) / np.average(i_points_B)\n",
    "data_to_save = np.array([In_Se_ratio, std_normalized_In, std_normalized_B])\n",
    "np.savetxt('Beta In_Se_ratio, StdDev_In_to_Avg_In, StdDev_B_to_Avg_B.txt',data_to_save, header='In_Se_ratio, StdDev_In/Avg_In, StdDev_B/Avg_B')\n",
    "np.savetxt('Beta In_intensity.txt',i_points_In)\n",
    "np.savetxt('Beta B_intensity.txt',i_points_B)"
   ]
  },
  {
   "cell_type": "code",
   "execution_count": 382,
   "id": "b3a81282",
   "metadata": {},
   "outputs": [],
   "source": [
    "s_crop2 = s_2"
   ]
  },
  {
   "cell_type": "code",
   "execution_count": 395,
   "id": "8a5526a9-0cf5-4b76-ad04-0acddbe0e85a",
   "metadata": {},
   "outputs": [],
   "source": [
    "atom_lattice2 = am.load_atom_lattice_from_hdf5('atom_lattice-2.hdf5')"
   ]
  },
  {
   "cell_type": "code",
   "execution_count": 398,
   "id": "10a2b96c-148a-4744-b626-d5b879e18120",
   "metadata": {},
   "outputs": [],
   "source": [
    "sublattice_In2 = atom_lattice2.sublattice_list[0]\n",
    "sublattice_B2 = atom_lattice2.sublattice_list[1]"
   ]
  },
  {
   "cell_type": "code",
   "execution_count": 399,
   "id": "a82ea3ba",
   "metadata": {},
   "outputs": [],
   "source": [
    "blue_columns_x_ranges2 = [(4, 6)]\n",
    "red_columns_x_ranges2 = [(7, 11)]\n",
    "blue_coord2 = []\n",
    "red_coord2 = []\n",
    "# Function to slice the positions based on x range and calculate distances\n",
    "def calculate_distances(sublattice_A, sublattice_B, blue_ranges, red_ranges):\n",
    "    distances = []\n",
    "    for blue_range, red_range in zip(blue_ranges, red_ranges):\n",
    "        # Slice the x positions based on the given range\n",
    "        blue_x = sublattice_B.x_position[(sublattice_B.x_position >= blue_range[0]) & (sublattice_B.x_position <= blue_range[1])]\n",
    "        red_x = sublattice_A.x_position[(sublattice_A.x_position >= red_range[0]) & (sublattice_A.x_position <= red_range[1]) \n",
    "                & (sublattice_A.y_position > 5)]\n",
    "        \n",
    "        # Assuming that the y positions follow the same order as x positions\n",
    "        blue_y = sublattice_B.y_position[(sublattice_B.x_position >= blue_range[0]) & (sublattice_B.x_position <= blue_range[1])]\n",
    "        red_y = sublattice_A.y_position[(sublattice_A.x_position >= red_range[0]) & (sublattice_A.x_position <= red_range[1])\n",
    "                                       & (sublattice_A.y_position > 5)]\n",
    "        blue_coord2.append((blue_x,blue_y))\n",
    "        red_coord2.append((red_x,red_y))\n",
    "        # Calculate distances between all pairs of blue and red dots within the sliced range\n",
    "        for bx, by in zip(blue_x, blue_y):\n",
    "            for rx, ry in zip(red_x, red_y):\n",
    "                distance = np.sqrt((bx - rx)**2 + (by - ry)**2)\n",
    "                distances.append(distance)\n",
    "    return distances\n",
    "\n",
    "\n",
    "# Call the function and calculate distances\n",
    "distances2 = calculate_distances(sublattice_In2, sublattice_B2, blue_columns_x_ranges2, red_columns_x_ranges2)\n",
    "blue2_x_1,blue2_y_1 = blue_coord2[0][0],blue_coord2[0][1]\n",
    "red2_x_1,red2_y_1  = red_coord2[0][0],red_coord2[0][1]\n",
    "\n",
    "\n",
    "plt.imshow(s_crop2.data, cmap='gray')\n",
    "plt.scatter(blue2_x_1,blue2_y_1,color='b' )\n",
    "plt.scatter(red2_x_1,red2_y_1,color='r' )\n",
    "distance_list2 = []\n",
    "distance_list2.extend(plot_distances(blue2_x_1, blue2_y_1, red2_x_1, red2_y_1, 'g-', x_scale))\n",
    "#plt.savefig('Figure2.tif')"
   ]
  },
  {
   "cell_type": "code",
   "execution_count": 419,
   "id": "5ce2b9d6",
   "metadata": {},
   "outputs": [
    {
     "name": "stdout",
     "output_type": "stream",
     "text": [
      "data =  [0.1499611379627792, 0.1604760542771656, 0.1629218524245166, 0.14182839644861409, 0.15163586808426405, 0.14358744271105697, 0.15055280808417085, 0.14470868569934056] count = 8 average = 0.151nm std = 0.008nm\n"
     ]
    }
   ],
   "source": [
    "print('data = ',distance_list2,'count =',len(distance_list2),f'average = {round(statistics.mean(distance_list2),3)}nm',f'std = {round(statistics.stdev(distance_list2),3)}nm')\n",
    "info2 = f'data = {distance_list2}  count = 8 average = 0.123nm std = 0.009nm'\n",
    "np.savetxt('2nd distance',distance_list2)\n",
    "file_path2 = '2rd distance_statistics.txt'  # Specify your desired file path\n",
    "with open(file_path2, 'w') as file:\n",
    "    file.write(info2)"
   ]
  },
  {
   "cell_type": "code",
   "execution_count": 422,
   "id": "f7c27a6c",
   "metadata": {},
   "outputs": [],
   "source": [
    "blue_columns_x_ranges3 = (16,20),(29,32)\n",
    "red_columns_x_ranges3 = (20,23),(33,36)\n",
    "blue_coord3 = []\n",
    "red_coord3 = []\n",
    "# Function to slice the positions based on x range and calculate distances\n",
    "def calculate_distances(sublattice_A, sublattice_B, blue_ranges, red_ranges):\n",
    "    distances = []\n",
    "    for blue_range, red_range in zip(blue_ranges, red_ranges):\n",
    "        # Slice the x positions based on the given range\n",
    "        blue_x = sublattice_B.x_position[(sublattice_B.x_position >= blue_range[0]) & (sublattice_B.x_position <= blue_range[1])]\n",
    "        red_x = sublattice_A.x_position[(sublattice_A.x_position >= red_range[0]) & (sublattice_A.x_position <= red_range[1]) \n",
    "                & (sublattice_A.y_position > 5)]\n",
    "        \n",
    "        # Assuming that the y positions follow the same order as x positions\n",
    "        blue_y = sublattice_B.y_position[(sublattice_B.x_position >= blue_range[0]) & (sublattice_B.x_position <= blue_range[1])]\n",
    "        red_y = sublattice_A.y_position[(sublattice_A.x_position >= red_range[0]) & (sublattice_A.x_position <= red_range[1])\n",
    "                                       & (sublattice_A.y_position > 5)]\n",
    "        blue_coord3.append((blue_x,blue_y))\n",
    "        red_coord3.append((red_x,red_y))\n",
    "        # Calculate distances between all pairs of blue and red dots within the sliced range\n",
    "        for bx, by in zip(blue_x, blue_y):\n",
    "            for rx, ry in zip(red_x, red_y):\n",
    "                distance = np.sqrt((bx - rx)**2 + (by - ry)**2)\n",
    "                distances.append(distance)\n",
    "    return distances\n",
    "\n",
    "\n",
    "# Call the function and calculate distances\n",
    "distances3 = calculate_distances(sublattice_In2, sublattice_B2, blue_columns_x_ranges3, red_columns_x_ranges3)\n",
    "blue3_x_1,blue3_y_1 = blue_coord3[0][0],blue_coord3[0][1]\n",
    "red3_x_1,red3_y_1  = red_coord3[0][0],red_coord3[0][1]\n",
    "blue3_x_2,blue3_y_2 = blue_coord3[1][0],blue_coord3[1][1]\n",
    "red3_x_2,red3_y_2  = red_coord3[1][0],red_coord3[1][1]"
   ]
  },
  {
   "cell_type": "code",
   "execution_count": 434,
   "id": "8df716c0",
   "metadata": {},
   "outputs": [],
   "source": [
    "plt.imshow(s_crop2.data, cmap='gray')\n",
    "plt.scatter(blue3_x_1,blue3_y_1,color='y' )\n",
    "plt.scatter(red3_x_1,red3_y_1,color='y' )\n",
    "plt.scatter(blue3_x_2,blue3_y_2,color='y' )\n",
    "plt.scatter(red3_x_2,red3_y_2,color='y' )\n",
    "distance_list3 = []\n",
    "distance_list3.extend(plot_distances(blue3_x_1, blue3_y_1, red3_x_1, red3_y_1, 'g-', x_scale))\n",
    "distance_list3.extend(plot_distances(blue3_x_2, blue3_y_2, red3_x_2, red3_y_2, 'g-', x_scale))\n",
    "#plt.savefig('Figure3.tif')"
   ]
  },
  {
   "cell_type": "code",
   "execution_count": 427,
   "id": "72466980",
   "metadata": {},
   "outputs": [
    {
     "name": "stdout",
     "output_type": "stream",
     "text": [
      "data =  [0.14017968046018148, 0.12255381556283934, 0.11449556107474113, 0.12387059606811107, 0.11079780648367703, 0.12285144984511613, 0.12620620306276917, 0.12183309550638209] count = 8 average = 0.123nm std = 0.009nm\n",
      "data =  [0.13108966867924476, 0.14333513356535243, 0.1485622057127049, 0.1428913593455131, 0.13899486654066123, 0.1536490849187982, 0.14439615429012542, 0.12769656294096027, 0.14613513390999236] count = 9 average = 0.142nm std = 0.008nm\n"
     ]
    }
   ],
   "source": [
    "print('data = ',distance_list3[:8],'count =',len(distance_list3[:8]),f'average = {round(statistics.mean(distance_list3[:8]),3)}nm',\n",
    "      f'std = {round(statistics.stdev(distance_list3[:8]),3)}nm')\n",
    "print('data = ',distance_list3[8:],'count =',len(distance_list3[8:]),f'average = {round(statistics.mean(distance_list3[8:]),3)}nm',\n",
    "      f'std = {round(statistics.stdev(distance_list3[8:]),3)}nm')\n",
    "info3 = f'data = {distance_list3[:8]}  count = 8 average = 0.123nm std = 0.009nm \\ndata = {distance_list3[8:]} count = 9 average = 0.142nm std = 0.008nm'\n",
    "np.savetxt('3rd distance',distance_list3)\n",
    "file_path3 = '3rd distance_statistics.txt'  # Specify your desired file path\n",
    "with open(file_path3, 'w') as file:\n",
    "    file.write(info3)"
   ]
  },
  {
   "cell_type": "code",
   "execution_count": 435,
   "id": "76cdfdb3-ec11-4f83-955f-bdc3d688de5f",
   "metadata": {},
   "outputs": [
    {
     "data": {
      "application/vnd.jupyter.widget-view+json": {
       "model_id": "",
       "version_major": 2,
       "version_minor": 0
      },
      "text/plain": [
       "Calculating Voronoi:   0%|          | 0/5040 [00:00<?, ?it/s]"
      ]
     },
     "metadata": {},
     "output_type": "display_data"
    },
    {
     "data": {
      "application/vnd.jupyter.widget-view+json": {
       "model_id": "e4d1fe39047c4b87847a80200f1822e3",
       "version_major": 2,
       "version_minor": 0
      },
      "text/plain": [
       "Integrating:   0%|          | 0/26 [00:00<?, ?it/s]"
      ]
     },
     "metadata": {},
     "output_type": "display_data"
    },
    {
     "data": {
      "application/vnd.jupyter.widget-view+json": {
       "model_id": "",
       "version_major": 2,
       "version_minor": 0
      },
      "text/plain": [
       "Building intensity map:   0%|          | 0/5040 [00:00<?, ?it/s]"
      ]
     },
     "metadata": {},
     "output_type": "display_data"
    },
    {
     "data": {
      "application/vnd.jupyter.widget-view+json": {
       "model_id": "",
       "version_major": 2,
       "version_minor": 0
      },
      "text/plain": [
       "Calculating Voronoi:   0%|          | 0/5040 [00:00<?, ?it/s]"
      ]
     },
     "metadata": {},
     "output_type": "display_data"
    },
    {
     "data": {
      "application/vnd.jupyter.widget-view+json": {
       "model_id": "66a77c888ede4c50bc32fded5620af2d",
       "version_major": 2,
       "version_minor": 0
      },
      "text/plain": [
       "Integrating:   0%|          | 0/25 [00:00<?, ?it/s]"
      ]
     },
     "metadata": {},
     "output_type": "display_data"
    },
    {
     "data": {
      "application/vnd.jupyter.widget-view+json": {
       "model_id": "",
       "version_major": 2,
       "version_minor": 0
      },
      "text/plain": [
       "Building intensity map:   0%|          | 0/5040 [00:00<?, ?it/s]"
      ]
     },
     "metadata": {},
     "output_type": "display_data"
    }
   ],
   "source": [
    "i_points_In2, i_record_In2, p_record_In2 = sublattice_In2.integrate_column_intensity(max_radius=3)\n",
    "i_points_B2, i_record_B2, p_record_B2 = sublattice_B2.integrate_column_intensity(max_radius=3)\n",
    "fig, ax = plt.subplots()\n",
    "i_record_In2.plot(ax=ax,cmap='viridis',scalebar=False)\n",
    "i_record_B2.plot(ax=ax,cmap='viridis',scalebar=False)\n",
    "s_crop2.plot(ax=ax,cmap='gray',alpha =1)\n",
    "plt.show()"
   ]
  },
  {
   "cell_type": "code",
   "execution_count": 443,
   "id": "0efc1853-1f38-4d9e-868d-d93e399ca94b",
   "metadata": {},
   "outputs": [],
   "source": [
    "masked_data_B2 = np.ma.masked_invalid(i_record_B2.data)\n",
    "masked_data_In2 = np.ma.masked_invalid(i_record_In2.data)\n",
    "cmap2 = plt.cm.viridis  \n",
    "cmap2.set_bad(color='none')\n",
    "fig2, ax2 = plt.subplots()\n",
    "global_vmin2 = min(np.min(masked_data_B2), np.min(masked_data_In2))\n",
    "global_vmax2 = max(np.max(masked_data_B2), np.max(masked_data_In2))\n",
    "\n",
    "ax2.imshow(s_crop2.data, cmap='gray', alpha=1)\n",
    "ax2.imshow(masked_data_B2, cmap=cmap2,  vmin=global_vmin2, vmax=global_vmax2,alpha=0.6)  # fully opaque\n",
    "ax2.imshow(masked_data_In2, cmap=cmap2,vmin=global_vmin2, vmax=global_vmax2, alpha=0.6)\n",
    "im2 = ax.imshow(masked_data_In2, cmap=cmap2, vmin=global_vmin2, vmax=global_vmax2, alpha=0.5)\n",
    "cbar2 = fig.colorbar(im2, ax=ax2, orientation='vertical')\n",
    "cbar2.set_label('Intensity')\n",
    "\n",
    "plt.show()"
   ]
  },
  {
   "cell_type": "code",
   "execution_count": 437,
   "id": "a191aa27-0fe4-4586-a0f7-ac7280d62ed3",
   "metadata": {},
   "outputs": [],
   "source": [
    "In_Se_ratio2 = np.average(i_points_In2) / np.average(i_points_B2)\n",
    "std_normalized_In2 = np.std(i_points_In2) / np.average(i_points_In2)\n",
    "std_normalized_B2 = np.std(i_points_B2) / np.average(i_points_B2)\n",
    "data_to_save2 = np.array([In_Se_ratio2, std_normalized_In2, std_normalized_B2])\n",
    "np.savetxt('Zigzag_In_Se_ratio, StdDev_In_to_Avg_In, StdDev_B_to_Avg_B.txt',data_to_save2, header='In_Se_ratio, StdDev_In/Avg_In, StdDev_B/Avg_B')\n",
    "np.savetxt('Zigzag_In_intensity.txt',i_points_In2)\n",
    "np.savetxt('Zigzag_intensity.txt',i_points_B2)"
   ]
  },
  {
   "cell_type": "code",
   "execution_count": 438,
   "id": "2fb6e928",
   "metadata": {},
   "outputs": [],
   "source": [
    "s_whole.plot()"
   ]
  },
  {
   "cell_type": "code",
   "execution_count": 442,
   "id": "e41ba902",
   "metadata": {},
   "outputs": [
    {
     "data": {
      "text/plain": [
       "[0.22574782864213458,\n",
       " 0.21335813389981417,\n",
       " 0.23017762932065342,\n",
       " 0.22023172065084456,\n",
       " 0.2327115764373473,\n",
       " 0.231004215003355,\n",
       " 0.23553672562186628,\n",
       " 0.222460961231442,\n",
       " 0.2242009740463621,\n",
       " 0.2285543921868832,\n",
       " 0.24225137219144158,\n",
       " 0.22135634009477498,\n",
       " 0.21605138901665982,\n",
       " 0.23611218598335265,\n",
       " 0.22069814831819445,\n",
       " 0.22697292546758902]"
      ]
     },
     "execution_count": 442,
     "metadata": {},
     "output_type": "execute_result"
    }
   ],
   "source": [
    "plt.imshow(s_whole.data, cmap='gray')\n",
    "plt.scatter(blue_x_1,blue_y_1,color='b' )\n",
    "plt.scatter(red_x_1,red_y_1,color='r' )\n",
    "plt.scatter(blue_x_2,blue_y_2,color='b' )\n",
    "plt.scatter(red_x_2,red_y_2,color='r' )\n",
    "plt.scatter(blue_x_3,blue_y_3,color='b' )\n",
    "plt.scatter(red_x_3,red_y_3,color='r' )\n",
    "plt.scatter(blue_x_4,blue_y_4,color='b' )\n",
    "plt.scatter(red_x_4,red_y_4,color='r' )\n",
    "plt.scatter(blue_cx_1, blue_cy_1, color='b')\n",
    "plt.scatter(blue_cx_2, blue_cy_2, color='b')\n",
    "distance_list = []\n",
    "plot_distances(blue_x_1, blue_y_1, red_x_1, red_y_1, 'g-', x_scale)\n",
    "plot_distances(blue_x_2, blue_y_2, red_x_2, red_y_2, 'g-', x_scale)\n",
    "plot_distances(blue_x_3, blue_y_3, red_x_3, red_y_3, 'g-', x_scale)\n",
    "plot_distances(blue_x_4, blue_y_4, red_x_4, red_y_4, 'g-', x_scale)\n",
    "\n",
    "shifted =155-85\n",
    "\n",
    "plt.scatter(blue2_x_1+shifted,blue2_y_1,color='b' )\n",
    "plt.scatter(red2_x_1+shifted,red2_y_1,color='r' )\n",
    "plot_distances(blue2_x_1+shifted, blue2_y_1, red2_x_1+shifted, red2_y_1, 'g-', x_scale)\n",
    "\n",
    "plt.scatter(blue3_x_1+shifted,blue3_y_1,color='b' )\n",
    "plt.scatter(red3_x_1+shifted,red3_y_1,color='r' )\n",
    "plt.scatter(blue3_x_2+shifted,blue3_y_2,color='b' )\n",
    "plt.scatter(red3_x_2+shifted,red3_y_2,color='r' )\n",
    "plot_distances(blue3_x_1+shifted, blue3_y_1, red3_x_1+shifted, red3_y_1, 'g-', x_scale)\n",
    "plot_distances(blue3_x_2+shifted, blue3_y_2, red3_x_2+shifted, red3_y_2, 'g-', x_scale)\n",
    "plot_center_to_nearest_reds(blue_cx_1, blue_cy_1, all_red_x_1, all_red_y_1, 'g-', x_scale)\n",
    "plot_center_to_nearest_reds(blue_cx_2, blue_cy_2, all_red_x_2, all_red_y_2, 'g-', x_scale)\n",
    "#plt.savefig('Figure_whole.tif')"
   ]
  },
  {
   "cell_type": "code",
   "execution_count": 496,
   "id": "26501878",
   "metadata": {},
   "outputs": [],
   "source": [
    "masked_data_B = np.ma.masked_invalid(i_record_B.data)\n",
    "masked_data_In = np.ma.masked_invalid(i_record_In.data)\n",
    "cmap = plt.cm.viridis  \n",
    "cmap.set_bad(color='none')\n",
    "fig, ax = plt.subplots()\n",
    "global_vmin = min(np.min(masked_data_B), np.min(masked_data_In),np.min(masked_data_B2), np.min(masked_data_In2))\n",
    "global_vmax = max(np.max(masked_data_B), np.max(masked_data_In),np.max(masked_data_B2), np.max(masked_data_In2))\n",
    "\n",
    "ax.imshow(s_whole.data, cmap='gray', alpha=1)\n",
    "masked_data_B_whole = np.concatenate((masked_data_B,masked_data_B2[:113,:]), axis = 1)\n",
    "masked_data_In_whole = np.concatenate((masked_data_In,masked_data_In2[:113,:]), axis = 1)\n",
    "ax.imshow(masked_data_B_whole, cmap=cmap,  vmin=global_vmin, vmax=global_vmax,alpha=0.6)  # fully opaque\n",
    "ax.imshow(masked_data_In_whole, cmap=cmap,vmin=global_vmin, vmax=global_vmax, alpha=0.6)\n",
    "#im = ax.imshow(masked_data_In, cmap=cmap, vmin=global_vmin, vmax=global_vmax, alpha=0.5)\n",
    "\n",
    "\n",
    "#masked_data_B2 = np.ma.masked_invalid(i_record_B2.data)\n",
    "#masked_data_In2 = np.ma.masked_invalid(i_record_In2.data)\n",
    "\n",
    "#ax.imshow(masked_data_B2, cmap=cmap2,  vmin=global_vmin2, vmax=global_vmax2,alpha=0.6)  # fully opaque\n",
    "#ax.imshow(masked_data_In2, cmap=cmap2,vmin=global_vmin2, vmax=global_vmax2, alpha=0.6)\n",
    "im = ax.imshow(masked_data_In_whole, cmap=cmap, vmin=global_vmin, vmax=global_vmax, alpha=0.5)\n",
    "cbar = fig.colorbar(im, ax=ax, orientation='vertical')\n",
    "cbar.set_label('Intensity')\n",
    "\n",
    "plt.show()"
   ]
  },
  {
   "cell_type": "code",
   "execution_count": 493,
   "id": "ca8d5065-f9e9-4d93-a463-56f18fcf1de3",
   "metadata": {},
   "outputs": [
    {
     "name": "stdout",
     "output_type": "stream",
     "text": [
      "(113, 110) (113, 70)\n"
     ]
    }
   ],
   "source": [
    "print (np.shape(s_whole.data[:113,:]), np.shape(masked_data_In))"
   ]
  }
 ],
 "metadata": {
  "kernelspec": {
   "display_name": "Python [conda env:HyperSpy-bundle] *",
   "language": "python",
   "name": "conda-env-HyperSpy-bundle-py"
  },
  "language_info": {
   "codemirror_mode": {
    "name": "ipython",
    "version": 3
   },
   "file_extension": ".py",
   "mimetype": "text/x-python",
   "name": "python",
   "nbconvert_exporter": "python",
   "pygments_lexer": "ipython3",
   "version": "3.11.8"
  }
 },
 "nbformat": 4,
 "nbformat_minor": 5
}
